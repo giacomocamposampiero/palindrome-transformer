{
 "cells": [
  {
   "cell_type": "markdown",
   "metadata": {},
   "source": [
    "# Overcoming a Theoretical Limitation of Self-Attention "
   ]
  },
  {
   "cell_type": "markdown",
   "metadata": {},
   "source": [
    "Replication of experiments on PARITY language learning from [Overcoming a Theoretical Limitation of Self-Attention  (Chiang and Cholak, 2022)](https://arxiv.org/pdf/2202.12172.pdf)."
   ]
  },
  {
   "cell_type": "code",
   "execution_count": 1,
   "metadata": {},
   "outputs": [],
   "source": [
    "from src.transformer import ParityTransformer\n",
    "import torch\n",
    "import pandas as pd"
   ]
  },
  {
   "cell_type": "markdown",
   "metadata": {},
   "source": [
    "## Learning PARITY"
   ]
  },
  {
   "cell_type": "markdown",
   "metadata": {},
   "source": [
    "Define training parameters as in the original paper. Citing from (David Chiang and Peter Cholak, 2020):\n",
    "> We used `d_model` = 16 for word encodings, self-attention, and FFNN outputs, and `d_FFNN` = 64 for FFNN hidden layers. We used layer normalization (ε = 10^−5) after residual connections. We used PyTorch’s default initialization and trained using Adam (Kingma and Ba, 2015) with learning rate 3 × 10^−4 (Karpathy, 2016). We did not use dropout, as it did not seem to help."
   ]
  },
  {
   "cell_type": "code",
   "execution_count": 2,
   "metadata": {},
   "outputs": [],
   "source": [
    "log_sigmoid = torch.nn.LogSigmoid()\n",
    "alphabet = [\"0\", \"1\", \"$\"]\n",
    "\n",
    "epochs = 20\n",
    "layers = 2\n",
    "heads = 1 \n",
    "d_model = 16 \n",
    "d_ffnn = 64  \n",
    "scaled =False # log-length scaled attention\n",
    "eps = 1e-5 # value added to denominator in layer normalization\n"
   ]
  },
  {
   "cell_type": "markdown",
   "metadata": {},
   "source": [
    "Load training data and convert them to Tensor."
   ]
  },
  {
   "cell_type": "code",
   "execution_count": 3,
   "metadata": {},
   "outputs": [],
   "source": [
    "train = pd.read_csv(\"data/parity/train.csv\")\n",
    "test = pd.read_csv(\"data/parity/test.csv\")"
   ]
  },
  {
   "cell_type": "code",
   "execution_count": 4,
   "metadata": {},
   "outputs": [],
   "source": [
    "X_train, y_train = train['sequence'].values, train['label'].values\n",
    "X_test, y_test = test['sequence'].values, test['label'].values"
   ]
  },
  {
   "cell_type": "code",
   "execution_count": 5,
   "metadata": {},
   "outputs": [],
   "source": [
    "alphabet_index = {a:i for i,a in enumerate(alphabet)}\n",
    "\n",
    "def _encode(s: str) -> torch.Tensor:\n",
    "    t = torch.tensor([alphabet_index[c] for c in s])\n",
    "    return t\n",
    "\n",
    "X_train = [_encode(s) for s in X_train]\n",
    "X_test = [_encode(s) for s in X_test]"
   ]
  },
  {
   "cell_type": "markdown",
   "metadata": {},
   "source": [
    "Initialize the Transformer to learn PARITY."
   ]
  },
  {
   "cell_type": "code",
   "execution_count": 6,
   "metadata": {},
   "outputs": [],
   "source": [
    "transformer = ParityTransformer(len(alphabet), layers, heads, d_model, d_ffnn, scaled, eps)\n",
    "optim = torch.optim.Adam(transformer.parameters(), lr=0.0003)"
   ]
  },
  {
   "cell_type": "markdown",
   "metadata": {},
   "source": [
    "Training cycle."
   ]
  },
  {
   "cell_type": "code",
   "execution_count": 7,
   "metadata": {},
   "outputs": [
    {
     "name": "stdout",
     "output_type": "stream",
     "text": [
      "[Epoch 1] --> Train acc: 0.496 Train loss: 703.3364757299423, Test acc: 0.494 Test loss: 718.8700598180294\n",
      "[Epoch 2] --> Train acc: 0.497 Train loss: 697.2359878122807, Test acc: 0.494 Test loss: 711.4245253801346\n",
      "[Epoch 3] --> Train acc: 0.5 Train loss: 696.3191552758217, Test acc: 0.494 Test loss: 706.2282025814056\n",
      "[Epoch 4] --> Train acc: 0.5 Train loss: 695.8036600351334, Test acc: 0.494 Test loss: 703.4981087446213\n",
      "[Epoch 5] --> Train acc: 0.502 Train loss: 695.5022611618042, Test acc: 0.494 Test loss: 701.6913009285927\n",
      "[Epoch 6] --> Train acc: 0.498 Train loss: 695.3172569274902, Test acc: 0.494 Test loss: 700.1177641153336\n",
      "[Epoch 7] --> Train acc: 0.498 Train loss: 695.1448124051094, Test acc: 0.494 Test loss: 698.9180834293365\n",
      "[Epoch 8] --> Train acc: 0.497 Train loss: 694.9611557126045, Test acc: 0.494 Test loss: 698.1849623918533\n",
      "[Epoch 9] --> Train acc: 0.498 Train loss: 694.8755180835724, Test acc: 0.494 Test loss: 697.4236763715744\n",
      "[Epoch 10] --> Train acc: 0.494 Train loss: 694.8204590082169, Test acc: 0.494 Test loss: 696.7444215416908\n",
      "[Epoch 11] --> Train acc: 0.495 Train loss: 694.703188419342, Test acc: 0.494 Test loss: 696.1763892769814\n",
      "[Epoch 12] --> Train acc: 0.496 Train loss: 694.6327753663063, Test acc: 0.494 Test loss: 695.9670622944832\n",
      "[Epoch 13] --> Train acc: 0.497 Train loss: 694.5899574756622, Test acc: 0.494 Test loss: 695.3149857521057\n",
      "[Epoch 14] --> Train acc: 0.498 Train loss: 694.5104133486748, Test acc: 0.494 Test loss: 695.0249549150467\n",
      "[Epoch 15] --> Train acc: 0.497 Train loss: 694.4638713598251, Test acc: 0.494 Test loss: 694.8421587944031\n",
      "[Epoch 16] --> Train acc: 0.5 Train loss: 694.4341412782669, Test acc: 0.494 Test loss: 694.579552590847\n",
      "[Epoch 17] --> Train acc: 0.502 Train loss: 694.3782223463058, Test acc: 0.494 Test loss: 694.4286383986473\n",
      "[Epoch 18] --> Train acc: 0.499 Train loss: 694.3458213210106, Test acc: 0.494 Test loss: 694.277251958847\n",
      "[Epoch 19] --> Train acc: 0.5 Train loss: 694.3119508624077, Test acc: 0.494 Test loss: 694.1410078406334\n",
      "[Epoch 20] --> Train acc: 0.5 Train loss: 694.2917584180832, Test acc: 0.494 Test loss: 694.0252420902252\n"
     ]
    }
   ],
   "source": [
    "train_l = []\n",
    "val_l = []\n",
    "train_acc = []\n",
    "val_acc = []\n",
    "\n",
    "for epoch in range(epochs):\n",
    "\n",
    "    train_loss = train_correct = 0    \n",
    "    \n",
    "    # train step\n",
    "    for x, y in zip(X_train, y_train):\n",
    "\n",
    "        output = transformer(x)\n",
    "\n",
    "        if not y: output = -output\n",
    "\n",
    "        if output > 0: train_correct += 1\n",
    "\n",
    "        loss = -log_sigmoid(output)\n",
    "        train_loss += loss.item()\n",
    "        optim.zero_grad()\n",
    "        loss.backward()\n",
    "        optim.step()\n",
    "\n",
    "    # save statistic about training step\n",
    "    train_l.append(train_loss) # loss\n",
    "    train_acc.append(train_correct/len(X_train)) # accuracy\n",
    "        \n",
    "    # validation step\n",
    "    with torch.no_grad():\n",
    "\n",
    "        test_loss = test_correct = 0\n",
    "\n",
    "        for x, y in zip(X_test, y_test):\n",
    "\n",
    "            output = transformer(x)\n",
    "\n",
    "            if not y: output = -output\n",
    "\n",
    "            if output > 0: test_correct += 1\n",
    "\n",
    "            loss = -log_sigmoid(output)\n",
    "            test_loss += loss.item()\n",
    "\n",
    "    # save statistic about validation step\n",
    "    val_l.append(test_loss) # loss\n",
    "    val_acc.append(test_correct/len(X_test)) # accuracy\n",
    "\n",
    "    # print step info\n",
    "    print(f\"[Epoch {epoch+1}] --> Train acc: {train_correct/len(X_train)} Train loss: {train_loss}, Test acc: {test_correct/len(X_test)} Test loss: {test_loss}\", flush=True)"
   ]
  },
  {
   "cell_type": "code",
   "execution_count": 10,
   "metadata": {},
   "outputs": [
    {
     "data": {
      "image/png": "[encoded data removed]",
      "text/plain": [
       "<Figure size 432x288 with 1 Axes>"
      ]
     },
     "metadata": {
      "needs_background": "light"
     },
     "output_type": "display_data"
    }
   ],
   "source": [
    "import matplotlib.pyplot as plt\n",
    "\n",
    "fig = plt.figure()\n",
    "plt.plot(range(epoch+1), train_l, color='blue', lw=2)\n",
    "plt.plot(range(epoch+1), val_l, color='orange', lw=2)\n",
    "plt.yscale('log')\n",
    "plt.show()"
   ]
  },
  {
   "cell_type": "code",
   "execution_count": 12,
   "metadata": {},
   "outputs": [
    {
     "data": {
      "image/png": "[encoded data removed]",
      "text/plain": [
       "<Figure size 432x288 with 1 Axes>"
      ]
     },
     "metadata": {
      "needs_background": "light"
     },
     "output_type": "display_data"
    }
   ],
   "source": [
    "fig = plt.figure()\n",
    "plt.plot(range(epoch+1), train_acc, color='blue', lw=2)\n",
    "plt.plot(range(epoch+1), val_acc, color='orange', lw=2)\n",
    "\n",
    "plt.show()"
   ]
  },
  {
   "cell_type": "code",
   "execution_count": null,
   "metadata": {},
   "outputs": [],
   "source": []
  }
 ],
 "metadata": {
  "interpreter": {
   "hash": "e79681ef656beecc23f40fa8189b5ee6b5f2b38db808810ba34977390d131671"
  },
  "kernelspec": {
   "display_name": "Python 3.9.6 ('aflt-proj')",
   "language": "python",
   "name": "python3"
  },
  "language_info": {
   "codemirror_mode": {
    "name": "ipython",
    "version": 3
   },
   "file_extension": ".py",
   "mimetype": "text/x-python",
   "name": "python",
   "nbconvert_exporter": "python",
   "pygments_lexer": "ipython3",
   "version": "3.9.6"
  },
  "orig_nbformat": 4
 },
 "nbformat": 4,
 "nbformat_minor": 2
}
