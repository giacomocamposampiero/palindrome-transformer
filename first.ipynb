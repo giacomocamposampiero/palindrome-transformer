{
 "cells": [
  {
   "cell_type": "markdown",
   "metadata": {},
   "source": [
    "# Overcoming a Theoretical Limitation of Self-Attention "
   ]
  },
  {
   "cell_type": "markdown",
   "metadata": {},
   "source": [
    "Replication of experiments on FIRST language learning from [Overcoming a Theoretical Limitation of Self-Attention  (Chiang and Cholak, 2022)](https://arxiv.org/pdf/2202.12172.pdf)."
   ]
  },
  {
   "cell_type": "code",
   "execution_count": null,
   "metadata": {},
   "outputs": [],
   "source": [
    "from src.transformer import FirstTransformer\n",
    "import torch\n",
    "import pandas as pd"
   ]
  },
  {
   "cell_type": "markdown",
   "metadata": {},
   "source": [
    "## Learning FIRST"
   ]
  },
  {
   "cell_type": "markdown",
   "metadata": {},
   "source": [
    "Define training parameters as in the original paper. Citing from (David Chiang and Peter Cholak, 2020):\n",
    "> We used `d_model` = 16 for word encodings, self-attention, and FFNN outputs, and `d_FFNN` = 64 for FFNN hidden layers. We used layer normalization (ε = 10^−5) after residual connections. We used PyTorch’s default initialization and trained using Adam (Kingma and Ba, 2015) with learning rate 3 × 10^−4 (Karpathy, 2016). We did not use dropout, as it did not seem to help."
   ]
  },
  {
   "cell_type": "code",
   "execution_count": null,
   "metadata": {},
   "outputs": [],
   "source": [
    "vocab = [\"0\", \"1\", \"$\"]\n",
    "\n",
    "epochs = 20\n",
    "layers = 2\n",
    "heads = 1 \n",
    "d_model = 16\n",
    "d_ffnn = 64  \n",
    "eps = 1e-5 # value added to denominator in layer normalization\n",
    "scaled = False"
   ]
  },
  {
   "cell_type": "markdown",
   "metadata": {},
   "source": [
    "### Generalization experiment"
   ]
  },
  {
   "cell_type": "markdown",
   "metadata": {},
   "source": [
    "Initialize the Transformer to learn FIRST."
   ]
  },
  {
   "cell_type": "code",
   "execution_count": null,
   "metadata": {},
   "outputs": [],
   "source": [
    "transformer = FirstTransformer(len(vocab), layers, heads, d_model, d_ffnn, scaled, eps)\n",
    "optim = torch.optim.Adam(transformer.parameters(), lr=0.0003)"
   ]
  },
  {
   "cell_type": "markdown",
   "metadata": {},
   "source": [
    "Define model trainer and train the transformer."
   ]
  },
  {
   "cell_type": "code",
   "execution_count": null,
   "metadata": {},
   "outputs": [],
   "source": [
    "from src.trainer import Trainer\n",
    "from src.dataset import Dataset\n",
    "\n",
    "trainset = Dataset(0, 100, 10, random_seed=42, train=True, data_type='first', variable_lenght=False)\n",
    "testset = Dataset(0, 100, 1000,  random_seed=42,  train=False, data_type='first', variable_lenght=False)\n",
    "\n",
    "trainer = Trainer(0, transformer, optim, vocab, epochs, trainset, testset, verbose=1)\n",
    "train_l, val_l, train_acc, val_acc = trainer.train()"
   ]
  },
  {
   "cell_type": "code",
   "execution_count": null,
   "metadata": {},
   "outputs": [],
   "source": [
    "import matplotlib.pyplot as plt\n",
    "\n",
    "fig = plt.figure()\n",
    "plt.plot(range(epochs), train_l, color='blue', lw=2)\n",
    "plt.plot(range(epochs), val_l, color='orange', lw=2)\n",
    "plt.yscale('log')\n",
    "plt.show()"
   ]
  },
  {
   "cell_type": "code",
   "execution_count": null,
   "metadata": {},
   "outputs": [],
   "source": [
    "fig = plt.figure()\n",
    "plt.plot(range(epochs), train_acc, color='blue', lw=2)\n",
    "plt.plot(range(epochs), val_acc, color='orange', lw=2)\n",
    "plt.ylim([0, 1.1])\n",
    "\n",
    "ax = plt.gca()\n",
    "\n",
    "handles, labels = ax.get_legend_handles_labels()\n",
    "fig.legend(handles, labels, frameon=False, loc='lower center',  ncol=4)"
   ]
  },
  {
   "cell_type": "markdown",
   "metadata": {},
   "source": [
    "### FIRST exact\n",
    "Validation of FIRST exact solution."
   ]
  },
  {
   "cell_type": "code",
   "execution_count": 1,
   "metadata": {},
   "outputs": [],
   "source": [
    "from src.transformer import FirstExactTransformer, ParityExactTransformer"
   ]
  },
  {
   "cell_type": "markdown",
   "metadata": {},
   "source": [
    "First of all, define model parameters."
   ]
  },
  {
   "cell_type": "code",
   "execution_count": 2,
   "metadata": {},
   "outputs": [],
   "source": [
    "vocab = [\"0\", \"1\", \"$\"]\n",
    "d_model = 6 # do not change this!"
   ]
  },
  {
   "cell_type": "markdown",
   "metadata": {},
   "source": [
    "Define the exact transformer model."
   ]
  },
  {
   "cell_type": "code",
   "execution_count": 3,
   "metadata": {},
   "outputs": [],
   "source": [
    "transformer = FirstExactTransformer(len(vocab), d_model) "
   ]
  },
  {
   "cell_type": "markdown",
   "metadata": {},
   "source": [
    "Validate the model with strings of increasing length in the interval [2,1000]."
   ]
  },
  {
   "cell_type": "code",
   "execution_count": 4,
   "metadata": {},
   "outputs": [
    {
     "name": "stdout",
     "output_type": "stream",
     "text": [
      "[Validation] Length 2. Loss: 54.945131957530975, Accuracy: 0.8\n",
      "[Validation] Length 3. Loss: 66.1132773309946, Accuracy: 0.56\n",
      "[Validation] Length 4. Loss: 61.60978747904301, Accuracy: 0.6\n",
      "[Validation] Length 5. Loss: 71.45389950275421, Accuracy: 0.45\n",
      "[Validation] Length 6. Loss: 67.87514571845531, Accuracy: 0.63\n",
      "[Validation] Length 7. Loss: 73.6521780192852, Accuracy: 0.57\n",
      "[Validation] Length 8. Loss: 70.15739993751049, Accuracy: 0.56\n",
      "[Validation] Length 9. Loss: 63.3657009601593, Accuracy: 0.63\n",
      "[Validation] Length 10. Loss: 77.38728103041649, Accuracy: 0.44\n",
      "[Validation] Length 11. Loss: 72.76293021440506, Accuracy: 0.54\n",
      "[Validation] Length 12. Loss: 76.65058933198452, Accuracy: 0.49\n",
      "[Validation] Length 13. Loss: 78.0278530716896, Accuracy: 0.45\n",
      "[Validation] Length 14. Loss: 75.76554736495018, Accuracy: 0.49\n",
      "[Validation] Length 15. Loss: 74.4655002206564, Accuracy: 0.52\n",
      "[Validation] Length 16. Loss: 73.16567029058933, Accuracy: 0.55\n",
      "[Validation] Length 17. Loss: 83.69888970255852, Accuracy: 0.41\n",
      "[Validation] Length 18. Loss: 69.09693890810013, Accuracy: 0.58\n",
      "[Validation] Length 19. Loss: 78.68145716190338, Accuracy: 0.46\n",
      "[Validation] Length 20. Loss: 77.53760641813278, Accuracy: 0.46\n",
      "[Validation] Length 21. Loss: 69.40878626704216, Accuracy: 0.58\n",
      "[Validation] Length 22. Loss: 74.35544377565384, Accuracy: 0.51\n",
      "[Validation] Length 23. Loss: 78.18842850625515, Accuracy: 0.47\n",
      "[Validation] Length 24. Loss: 77.13598635792732, Accuracy: 0.49\n",
      "[Validation] Length 25. Loss: 79.84237974882126, Accuracy: 0.42\n",
      "[Validation] Length 26. Loss: 76.29768055677414, Accuracy: 0.47\n",
      "[Validation] Length 27. Loss: 74.02240374684334, Accuracy: 0.53\n",
      "[Validation] Length 28. Loss: 67.68381336331367, Accuracy: 0.58\n",
      "[Validation] Length 29. Loss: 72.29375299811363, Accuracy: 0.53\n",
      "[Validation] Length 30. Loss: 76.42946848273277, Accuracy: 0.5\n",
      "[Validation] Length 31. Loss: 71.51991075277328, Accuracy: 0.55\n",
      "[Validation] Length 32. Loss: 72.84540542960167, Accuracy: 0.54\n",
      "[Validation] Length 33. Loss: 80.48734021186829, Accuracy: 0.47\n",
      "[Validation] Length 34. Loss: 81.04331123828888, Accuracy: 0.45\n",
      "[Validation] Length 35. Loss: 77.85024872422218, Accuracy: 0.48\n",
      "[Validation] Length 36. Loss: 77.73412105441093, Accuracy: 0.49\n",
      "[Validation] Length 37. Loss: 75.69425451755524, Accuracy: 0.52\n",
      "[Validation] Length 38. Loss: 79.18430358171463, Accuracy: 0.47\n",
      "[Validation] Length 39. Loss: 80.04021143913269, Accuracy: 0.46\n",
      "[Validation] Length 40. Loss: 74.50705316662788, Accuracy: 0.51\n",
      "[Validation] Length 41. Loss: 71.00193217396736, Accuracy: 0.56\n",
      "[Validation] Length 42. Loss: 74.53714808821678, Accuracy: 0.52\n",
      "[Validation] Length 43. Loss: 73.46968391537666, Accuracy: 0.52\n",
      "[Validation] Length 44. Loss: 76.30464652180672, Accuracy: 0.51\n",
      "[Validation] Length 45. Loss: 70.31659153103828, Accuracy: 0.57\n",
      "[Validation] Length 46. Loss: 78.72962319850922, Accuracy: 0.47\n",
      "[Validation] Length 47. Loss: 84.72295957803726, Accuracy: 0.4\n",
      "[Validation] Length 48. Loss: 79.14808228611946, Accuracy: 0.47\n",
      "[Validation] Length 49. Loss: 73.6618290245533, Accuracy: 0.52\n",
      "[Validation] Length 50. Loss: 78.30646854639053, Accuracy: 0.47\n",
      "[Validation] Length 51. Loss: 75.51026079058647, Accuracy: 0.51\n",
      "[Validation] Length 52. Loss: 71.08535361289978, Accuracy: 0.56\n",
      "[Validation] Length 53. Loss: 78.00055533647537, Accuracy: 0.5\n",
      "[Validation] Length 54. Loss: 70.04897472262383, Accuracy: 0.59\n",
      "[Validation] Length 55. Loss: 72.84293124079704, Accuracy: 0.54\n",
      "[Validation] Length 56. Loss: 78.34192302823067, Accuracy: 0.46\n",
      "[Validation] Length 57. Loss: 76.84985148906708, Accuracy: 0.49\n",
      "[Validation] Length 58. Loss: 80.22676765918732, Accuracy: 0.45\n",
      "[Validation] Length 59. Loss: 79.02147626876831, Accuracy: 0.46\n",
      "[Validation] Length 60. Loss: 77.20903766155243, Accuracy: 0.49\n",
      "[Validation] Length 61. Loss: 71.94415932893753, Accuracy: 0.56\n",
      "[Validation] Length 62. Loss: 78.54761126637459, Accuracy: 0.47\n",
      "[Validation] Length 63. Loss: 77.17180114984512, Accuracy: 0.49\n",
      "[Validation] Length 64. Loss: 74.91441205143929, Accuracy: 0.51\n",
      "[Validation] Length 65. Loss: 73.45748242735863, Accuracy: 0.54\n",
      "[Validation] Length 66. Loss: 72.96184399724007, Accuracy: 0.54\n",
      "[Validation] Length 67. Loss: 74.87196916341782, Accuracy: 0.51\n",
      "[Validation] Length 68. Loss: 80.49603351950645, Accuracy: 0.45\n",
      "[Validation] Length 69. Loss: 78.4112178683281, Accuracy: 0.48\n",
      "[Validation] Length 70. Loss: 73.13432955741882, Accuracy: 0.54\n",
      "[Validation] Length 71. Loss: 83.58640116453171, Accuracy: 0.41\n",
      "[Validation] Length 72. Loss: 78.02718940377235, Accuracy: 0.49\n",
      "[Validation] Length 73. Loss: 73.69554170966148, Accuracy: 0.54\n",
      "[Validation] Length 74. Loss: 76.65961062908173, Accuracy: 0.49\n",
      "[Validation] Length 75. Loss: 74.46293503046036, Accuracy: 0.53\n",
      "[Validation] Length 76. Loss: 77.98585841059685, Accuracy: 0.48\n",
      "[Validation] Length 77. Loss: 76.48978555202484, Accuracy: 0.49\n",
      "[Validation] Length 78. Loss: 74.07380393147469, Accuracy: 0.53\n",
      "[Validation] Length 79. Loss: 82.8175518810749, Accuracy: 0.42\n",
      "[Validation] Length 80. Loss: 76.60252404212952, Accuracy: 0.5\n",
      "[Validation] Length 81. Loss: 72.55725717544556, Accuracy: 0.54\n",
      "[Validation] Length 82. Loss: 77.28311058878899, Accuracy: 0.49\n",
      "[Validation] Length 83. Loss: 79.05559104681015, Accuracy: 0.47\n",
      "[Validation] Length 84. Loss: 79.14593601226807, Accuracy: 0.47\n",
      "[Validation] Length 85. Loss: 75.4020502269268, Accuracy: 0.52\n",
      "[Validation] Length 86. Loss: 71.93808421492577, Accuracy: 0.55\n",
      "[Validation] Length 87. Loss: 68.5836786031723, Accuracy: 0.6\n",
      "[Validation] Length 88. Loss: 75.65257659554482, Accuracy: 0.51\n",
      "[Validation] Length 89. Loss: 75.42430770397186, Accuracy: 0.52\n",
      "[Validation] Length 90. Loss: 70.91936522722244, Accuracy: 0.57\n",
      "[Validation] Length 91. Loss: 77.95913150906563, Accuracy: 0.48\n",
      "[Validation] Length 92. Loss: 75.26420882344246, Accuracy: 0.52\n",
      "[Validation] Length 93. Loss: 80.66186714172363, Accuracy: 0.46\n",
      "[Validation] Length 94. Loss: 79.22216752171516, Accuracy: 0.47\n",
      "[Validation] Length 95. Loss: 74.03185200691223, Accuracy: 0.52\n",
      "[Validation] Length 96. Loss: 77.81342175602913, Accuracy: 0.48\n",
      "[Validation] Length 97. Loss: 82.47257760167122, Accuracy: 0.44\n",
      "[Validation] Length 98. Loss: 75.09130823612213, Accuracy: 0.51\n",
      "[Validation] Length 99. Loss: 73.60978889465332, Accuracy: 0.54\n",
      "[Validation] Length 100. Loss: 82.91179564595222, Accuracy: 0.43\n"
     ]
    }
   ],
   "source": [
    "from src.validation import Validator\n",
    "from src.dataset import Dataset\n",
    "\n",
    "losses = []\n",
    "accuracies = []\n",
    "\n",
    "for l in range(2, 101):\n",
    "    valset = Dataset(0, 100, l, random_seed=42, train=False, data_type='first', variable_lenght=False)\n",
    "    validator = Validator(0, transformer, vocab, valset, verbose=1)\n",
    "    loss, acc = validator.validate()\n",
    "    losses.append(loss)\n",
    "    accuracies.append(acc)"
   ]
  },
  {
   "cell_type": "markdown",
   "metadata": {},
   "source": [
    "Plot validation accuracy and loss for the different string lengths."
   ]
  },
  {
   "cell_type": "code",
   "execution_count": 8,
   "metadata": {},
   "outputs": [
    {
     "data": {
      "image/png": "[encoded data removed]",
      "text/plain": [
       "<Figure size 432x288 with 1 Axes>"
      ]
     },
     "metadata": {
      "needs_background": "light"
     },
     "output_type": "display_data"
    }
   ],
   "source": [
    "import matplotlib.pyplot as plt\n",
    "\n",
    "fig = plt.figure()\n",
    "plt.plot(range(2, 101), losses, color='blue', lw=2)\n",
    "plt.show()"
   ]
  },
  {
   "cell_type": "code",
   "execution_count": 10,
   "metadata": {},
   "outputs": [
    {
     "data": {
      "image/png": "[encoded data removed]",
      "text/plain": [
       "<Figure size 432x288 with 1 Axes>"
      ]
     },
     "metadata": {
      "needs_background": "light"
     },
     "output_type": "display_data"
    }
   ],
   "source": [
    "import matplotlib.pyplot as plt\n",
    "\n",
    "fig = plt.figure()\n",
    "plt.plot(range(2, 101), accuracies, color='orange', lw=2)\n",
    "plt.show()"
   ]
  },
  {
   "cell_type": "code",
   "execution_count": null,
   "metadata": {},
   "outputs": [],
   "source": []
  }
 ],
 "metadata": {
  "kernelspec": {
   "display_name": "Python 3.9.6 ('aflt-proj')",
   "language": "python",
   "name": "python3"
  },
  "language_info": {
   "codemirror_mode": {
    "name": "ipython",
    "version": 3
   },
   "file_extension": ".py",
   "mimetype": "text/x-python",
   "name": "python",
   "nbconvert_exporter": "python",
   "pygments_lexer": "ipython3",
   "version": "3.9.6"
  },
  "orig_nbformat": 4,
  "vscode": {
   "interpreter": {
    "hash": "e79681ef656beecc23f40fa8189b5ee6b5f2b38db808810ba34977390d131671"
   }
  }
 },
 "nbformat": 4,
 "nbformat_minor": 2
}
