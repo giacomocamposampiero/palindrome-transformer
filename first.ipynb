{
 "cells": [
  {
   "cell_type": "markdown",
   "metadata": {},
   "source": [
    "# Overcoming a Theoretical Limitation of Self-Attention "
   ]
  },
  {
   "cell_type": "markdown",
   "metadata": {},
   "source": [
    "Replication of experiments on FIRST language learning from [Overcoming a Theoretical Limitation of Self-Attention  (Chiang and Cholak, 2022)](https://arxiv.org/pdf/2202.12172.pdf)."
   ]
  },
  {
   "cell_type": "code",
   "execution_count": 17,
   "metadata": {},
   "outputs": [],
   "source": [
    "from src.transformer import FirstTransformer\n",
    "import torch\n",
    "import pandas as pd"
   ]
  },
  {
   "cell_type": "markdown",
   "metadata": {},
   "source": [
    "## Learning FIRST"
   ]
  },
  {
   "cell_type": "markdown",
   "metadata": {},
   "source": [
    "Define training parameters as in the original paper. Citing from (David Chiang and Peter Cholak, 2020):\n",
    "> We used `d_model` = 16 for word encodings, self-attention, and FFNN outputs, and `d_FFNN` = 64 for FFNN hidden layers. We used layer normalization (ε = 10^−5) after residual connections. We used PyTorch’s default initialization and trained using Adam (Kingma and Ba, 2015) with learning rate 3 × 10^−4 (Karpathy, 2016). We did not use dropout, as it did not seem to help."
   ]
  },
  {
   "cell_type": "code",
   "execution_count": 18,
   "metadata": {},
   "outputs": [],
   "source": [
    "log_sigmoid = torch.nn.LogSigmoid()\n",
    "alphabet = [\"0\", \"1\", \"$\"]\n",
    "\n",
    "epochs = 20\n",
    "layers = 2\n",
    "heads = 1 \n",
    "d_model = 16 \n",
    "d_ffnn = 64  \n",
    "scaled =False # log-length scaled attention\n",
    "eps = 1e-5 # value added to denominator in layer normalization\n"
   ]
  },
  {
   "cell_type": "markdown",
   "metadata": {},
   "source": [
    "Load training data and convert them to Tensor."
   ]
  },
  {
   "cell_type": "code",
   "execution_count": 19,
   "metadata": {},
   "outputs": [],
   "source": [
    "train = pd.read_csv(\"data/first/train.csv\")\n",
    "test = pd.read_csv(\"data/first/test.csv\")"
   ]
  },
  {
   "cell_type": "code",
   "execution_count": 20,
   "metadata": {},
   "outputs": [],
   "source": [
    "X_train, y_train = train['sequence'].values, train['label'].values\n",
    "X_test, y_test = test['sequence'].values, test['label'].values"
   ]
  },
  {
   "cell_type": "code",
   "execution_count": 21,
   "metadata": {},
   "outputs": [],
   "source": [
    "alphabet_index = {a:i for i,a in enumerate(alphabet)}\n",
    "\n",
    "def _encode(s: str) -> torch.Tensor:\n",
    "    t = torch.tensor([alphabet_index[c] for c in s])\n",
    "    return t\n",
    "\n",
    "X_train = [_encode(s) for s in X_train]\n",
    "X_test = [_encode(s) for s in X_test]"
   ]
  },
  {
   "cell_type": "markdown",
   "metadata": {},
   "source": [
    "Initialize the Transformer to learn FIRST."
   ]
  },
  {
   "cell_type": "code",
   "execution_count": 22,
   "metadata": {},
   "outputs": [],
   "source": [
    "transformer = FirstTransformer(len(alphabet), layers, heads, d_model, d_ffnn, scaled, eps)\n",
    "optim = torch.optim.Adam(transformer.parameters(), lr=0.0003)"
   ]
  },
  {
   "cell_type": "markdown",
   "metadata": {},
   "source": [
    "Training cycle."
   ]
  },
  {
   "cell_type": "code",
   "execution_count": 23,
   "metadata": {},
   "outputs": [
    {
     "name": "stdout",
     "output_type": "stream",
     "text": [
      "[Epoch 1] --> Train acc: 0.507 Train loss: 697.7843798100948, Test acc: 0.511 Test loss: 704.918937087059\n",
      "[Epoch 2] --> Train acc: 0.509 Train loss: 696.3209083080292, Test acc: 0.511 Test loss: 704.008788228035\n",
      "[Epoch 3] --> Train acc: 0.518 Train loss: 695.5952243804932, Test acc: 0.511 Test loss: 702.9590417146683\n",
      "[Epoch 4] --> Train acc: 0.523 Train loss: 695.2037618756294, Test acc: 0.511 Test loss: 702.4227955341339\n",
      "[Epoch 5] --> Train acc: 0.519 Train loss: 694.8604298830032, Test acc: 0.511 Test loss: 701.7184922099113\n",
      "[Epoch 6] --> Train acc: 0.521 Train loss: 694.6032190322876, Test acc: 0.511 Test loss: 701.3606865406036\n",
      "[Epoch 7] --> Train acc: 0.52 Train loss: 694.3472517132759, Test acc: 0.511 Test loss: 700.8203113675117\n",
      "[Epoch 8] --> Train acc: 0.522 Train loss: 694.0822111964226, Test acc: 0.511 Test loss: 700.3326958417892\n",
      "[Epoch 9] --> Train acc: 0.526 Train loss: 693.8135682344437, Test acc: 0.511 Test loss: 700.1346691846848\n",
      "[Epoch 10] --> Train acc: 0.526 Train loss: 693.483639895916, Test acc: 0.511 Test loss: 699.8110764026642\n",
      "[Epoch 11] --> Train acc: 0.535 Train loss: 693.0667709112167, Test acc: 0.511 Test loss: 699.4586351513863\n",
      "[Epoch 12] --> Train acc: 0.538 Train loss: 692.4826132655144, Test acc: 0.511 Test loss: 699.220422655344\n",
      "[Epoch 13] --> Train acc: 0.539 Train loss: 691.4498918950558, Test acc: 0.511 Test loss: 698.3942270576954\n",
      "[Epoch 14] --> Train acc: 0.547 Train loss: 688.4128933548927, Test acc: 0.513 Test loss: 690.5239633321762\n",
      "[Epoch 15] --> Train acc: 0.782 Train loss: 421.17775216698647, Test acc: 1.0 Test loss: 58.19543121010065\n",
      "[Epoch 16] --> Train acc: 1.0 Train loss: 22.29848450422287, Test acc: 1.0 Test loss: 7.420598738826811\n",
      "[Epoch 17] --> Train acc: 1.0 Train loss: 4.163037522695959, Test acc: 1.0 Test loss: 2.238710239296779\n",
      "[Epoch 18] --> Train acc: 1.0 Train loss: 1.4580415747477673, Test acc: 1.0 Test loss: 0.9160773851908743\n",
      "[Epoch 19] --> Train acc: 1.0 Train loss: 0.6373768980847672, Test acc: 1.0 Test loss: 0.4291296438605059\n",
      "[Epoch 20] --> Train acc: 1.0 Train loss: 0.3092269927583402, Test acc: 1.0 Test loss: 0.21605098395957612\n"
     ]
    }
   ],
   "source": [
    "train_l = []\n",
    "val_l = []\n",
    "train_acc = []\n",
    "val_acc = []\n",
    "\n",
    "for epoch in range(epochs):\n",
    "\n",
    "    train_loss = train_correct = 0    \n",
    "    \n",
    "    # train step\n",
    "    for x, y in zip(X_train, y_train):\n",
    "\n",
    "        output = transformer(x)\n",
    "\n",
    "        if not y: output = -output\n",
    "\n",
    "        if output > 0: train_correct += 1\n",
    "\n",
    "        loss = -log_sigmoid(output)\n",
    "        train_loss += loss.item()\n",
    "        optim.zero_grad()\n",
    "        loss.backward()\n",
    "        optim.step()\n",
    "\n",
    "    # save statistic about training step\n",
    "    train_l.append(train_loss) # loss\n",
    "    train_acc.append(train_correct/len(X_train)) # accuracy\n",
    "        \n",
    "    # validation step\n",
    "    with torch.no_grad():\n",
    "\n",
    "        test_loss = test_correct = 0\n",
    "\n",
    "        for x, y in zip(X_test, y_test):\n",
    "\n",
    "            output = transformer(x)\n",
    "\n",
    "            if not y: output = -output\n",
    "\n",
    "            if output > 0: test_correct += 1\n",
    "\n",
    "            loss = -log_sigmoid(output)\n",
    "            test_loss += loss.item()\n",
    "\n",
    "    # save statistic about validation step\n",
    "    val_l.append(test_loss) # loss\n",
    "    val_acc.append(test_correct/len(X_test)) # accuracy\n",
    "\n",
    "    # print step info\n",
    "    print(f\"[Epoch {epoch+1}] --> Train acc: {train_correct/len(X_train)} Train loss: {train_loss}, Test acc: {test_correct/len(X_test)} Test loss: {test_loss}\", flush=True)"
   ]
  },
  {
   "cell_type": "code",
   "execution_count": 24,
   "metadata": {},
   "outputs": [
    {
     "data": {
      "image/png": "[encoded data removed]",
      "text/plain": [
       "<Figure size 432x288 with 1 Axes>"
      ]
     },
     "metadata": {
      "needs_background": "light"
     },
     "output_type": "display_data"
    }
   ],
   "source": [
    "import matplotlib.pyplot as plt\n",
    "\n",
    "fig = plt.figure()\n",
    "plt.plot(range(epoch+1), train_l, color='blue', lw=2)\n",
    "plt.plot(range(epoch+1), val_l, color='orange', lw=2)\n",
    "plt.yscale('log')\n",
    "plt.show()"
   ]
  },
  {
   "cell_type": "code",
   "execution_count": 25,
   "metadata": {},
   "outputs": [
    {
     "data": {
      "image/png": "[encoded data removed]",
      "text/plain": [
       "<Figure size 432x288 with 1 Axes>"
      ]
     },
     "metadata": {
      "needs_background": "light"
     },
     "output_type": "display_data"
    }
   ],
   "source": [
    "fig = plt.figure()\n",
    "plt.plot(range(epoch+1), train_acc, color='blue', lw=2)\n",
    "plt.plot(range(epoch+1), val_acc, color='orange', lw=2)\n",
    "plt.ylim([0, 1.1])\n",
    "\n",
    "plt.show()"
   ]
  },
  {
   "cell_type": "code",
   "execution_count": null,
   "metadata": {},
   "outputs": [],
   "source": []
  }
 ],
 "metadata": {
  "interpreter": {
   "hash": "e79681ef656beecc23f40fa8189b5ee6b5f2b38db808810ba34977390d131671"
  },
  "kernelspec": {
   "display_name": "Python 3.9.6 ('aflt-proj')",
   "language": "python",
   "name": "python3"
  },
  "language_info": {
   "codemirror_mode": {
    "name": "ipython",
    "version": 3
   },
   "file_extension": ".py",
   "mimetype": "text/x-python",
   "name": "python",
   "nbconvert_exporter": "python",
   "pygments_lexer": "ipython3",
   "version": "3.9.6"
  },
  "orig_nbformat": 4
 },
 "nbformat": 4,
 "nbformat_minor": 2
}
