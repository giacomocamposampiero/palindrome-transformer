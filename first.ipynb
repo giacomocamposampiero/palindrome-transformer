{
 "cells": [
  {
   "cell_type": "markdown",
   "metadata": {},
   "source": [
    "# Overcoming a Theoretical Limitation of Self-Attention "
   ]
  },
  {
   "cell_type": "markdown",
   "metadata": {},
   "source": [
    "Replication of experiments on FIRST language learning from [Overcoming a Theoretical Limitation of Self-Attention  (Chiang and Cholak, 2022)](https://arxiv.org/pdf/2202.12172.pdf)."
   ]
  },
  {
   "cell_type": "code",
   "execution_count": 1,
   "metadata": {},
   "outputs": [],
   "source": [
    "from src.transformer import FirstTransformer, FirstExactTransformer\n",
    "import torch\n",
    "import pandas as pd"
   ]
  },
  {
   "cell_type": "markdown",
   "metadata": {},
   "source": [
    "Set the following to true to use the FirstExactTransformer, and to false to use FirstTransformer"
   ]
  },
  {
   "cell_type": "code",
   "execution_count": 2,
   "metadata": {},
   "outputs": [],
   "source": [
    "EXACT = True"
   ]
  },
  {
   "cell_type": "markdown",
   "metadata": {},
   "source": [
    "## Learning FIRST"
   ]
  },
  {
   "cell_type": "markdown",
   "metadata": {},
   "source": [
    "Define training parameters as in the original paper. Citing from (David Chiang and Peter Cholak, 2020):\n",
    "> We used `d_model` = 16 for word encodings, self-attention, and FFNN outputs, and `d_FFNN` = 64 for FFNN hidden layers. We used layer normalization (ε = 10^−5) after residual connections. We used PyTorch’s default initialization and trained using Adam (Kingma and Ba, 2015) with learning rate 3 × 10^−4 (Karpathy, 2016). We did not use dropout, as it did not seem to help."
   ]
  },
  {
   "cell_type": "code",
   "execution_count": 3,
   "metadata": {},
   "outputs": [],
   "source": [
    "log_sigmoid = torch.nn.LogSigmoid()\n",
    "alphabet = [\"0\", \"1\", \"$\"]\n",
    "\n",
    "epochs = 10\n",
    "layers = 2\n",
    "heads = 1 \n",
    "if EXACT:\n",
    "    d_model = 6 # do not change this!\n",
    "else:\n",
    "    d_model = 16\n",
    "d_ffnn = 64  \n",
    "eps = 1e-5 # value added to denominator in layer normalization"
   ]
  },
  {
   "cell_type": "markdown",
   "metadata": {},
   "source": [
    "### Generalization experiment"
   ]
  },
  {
   "cell_type": "markdown",
   "metadata": {},
   "source": [
    "Load training data and convert them to Tensor."
   ]
  },
  {
   "cell_type": "code",
   "execution_count": 4,
   "metadata": {},
   "outputs": [],
   "source": [
    "train10 = pd.read_csv(\"data/first/train_n100_l10.csv\")\n",
    "train30 = pd.read_csv(\"data/first/train_n100_l30.csv\")\n",
    "train100 = pd.read_csv(\"data/first/train_n100_l100.csv\")\n",
    "train300 = pd.read_csv(\"data/first/train_n100_l300.csv\")\n",
    "test = pd.read_csv(\"data/first/test_n100_l1000.csv\")"
   ]
  },
  {
   "cell_type": "code",
   "execution_count": 5,
   "metadata": {},
   "outputs": [],
   "source": [
    "X_train10, y_train10 = train10['sequence'].values, train10['label'].values\n",
    "X_train30, y_train30 = train30['sequence'].values, train30['label'].values\n",
    "X_train100, y_train100 = train100['sequence'].values, train100['label'].values\n",
    "X_train300, y_train300 = train300['sequence'].values, train300['label'].values\n",
    "X_test, y_test = test['sequence'].values, test['label'].values"
   ]
  },
  {
   "cell_type": "code",
   "execution_count": 6,
   "metadata": {},
   "outputs": [],
   "source": [
    "alphabet_index = {a:i for i,a in enumerate(alphabet)}\n",
    "\n",
    "def _encode(s: str) -> torch.Tensor:\n",
    "    t = torch.tensor([alphabet_index[c] for c in s])\n",
    "    return t\n",
    "\n",
    "X_train10 = [_encode(s) for s in X_train10]\n",
    "X_train30 = [_encode(s) for s in X_train30]\n",
    "X_train100 = [_encode(s) for s in X_train100]\n",
    "X_train300 = [_encode(s) for s in X_train300]\n",
    "X_test = [_encode(s) for s in X_test]"
   ]
  },
  {
   "cell_type": "markdown",
   "metadata": {},
   "source": [
    "Initialize the Transformer to learn FIRST."
   ]
  },
  {
   "cell_type": "code",
   "execution_count": 7,
   "metadata": {},
   "outputs": [],
   "source": [
    "transformer = \\\n",
    "    FirstExactTransformer(len(alphabet), d_model) if EXACT \\\n",
    "    else FirstTransformer(len(alphabet), layers, heads, d_model, d_ffnn, scaled, eps)\n",
    "optim = torch.optim.Adam(transformer.parameters(), lr=0.0003)"
   ]
  },
  {
   "cell_type": "markdown",
   "metadata": {},
   "source": [
    "Training cycle."
   ]
  },
  {
   "cell_type": "code",
   "execution_count": 8,
   "metadata": {},
   "outputs": [
    {
     "name": "stdout",
     "output_type": "stream",
     "text": [
      "[Epoch 1] --> Train acc: 0.538 Train loss: 687.7717269062996, Test acc: 0.538 Test loss: 684.6010890007019\n",
      "[Epoch 2] --> Train acc: 0.538 Train loss: 680.4441966414452, Test acc: 0.538 Test loss: 663.8430480957031\n",
      "[Epoch 3] --> Train acc: 0.957 Train loss: 180.063490527682, Test acc: 1.0 Test loss: 15.207884524948895\n",
      "[Epoch 4] --> Train acc: 1.0 Train loss: 6.782103429548442, Test acc: 1.0 Test loss: 2.8516633837716654\n",
      "[Epoch 5] --> Train acc: 1.0 Train loss: 1.6975164163741283, Test acc: 1.0 Test loss: 0.9675771602778696\n",
      "[Epoch 6] --> Train acc: 1.0 Train loss: 0.6396705122460844, Test acc: 1.0 Test loss: 0.40732408277108334\n",
      "[Epoch 7] --> Train acc: 1.0 Train loss: 0.28342520295700524, Test acc: 1.0 Test loss: 0.19059356731304433\n",
      "[Epoch 8] --> Train acc: 1.0 Train loss: 0.13651136794214835, Test acc: 1.0 Test loss: 0.09469729633929092\n",
      "[Epoch 9] --> Train acc: 1.0 Train loss: 0.06905390826250368, Test acc: 1.0 Test loss: 0.04882823375737644\n",
      "[Epoch 10] --> Train acc: 1.0 Train loss: 0.03604276222722547, Test acc: 1.0 Test loss: 0.025820289800321916\n",
      "[Epoch 11] --> Train acc: 1.0 Train loss: 0.019214734219985985, Test acc: 1.0 Test loss: 0.013903964655582968\n",
      "[Epoch 12] --> Train acc: 1.0 Train loss: 0.010403200356449815, Test acc: 1.0 Test loss: 0.0075566376776805555\n",
      "[Epoch 13] --> Train acc: 1.0 Train loss: 0.005697108393974304, Test acc: 1.0 Test loss: 0.004187452745782139\n",
      "[Epoch 14] --> Train acc: 1.0 Train loss: 0.003146402961306194, Test acc: 1.0 Test loss: 0.0023163519390436704\n",
      "[Epoch 15] --> Train acc: 1.0 Train loss: 0.001750467025829039, Test acc: 1.0 Test loss: 0.0012555111103438321\n",
      "[Epoch 16] --> Train acc: 1.0 Train loss: 0.0009776346886667397, Test acc: 1.0 Test loss: 0.0007514949812161831\n",
      "[Epoch 17] --> Train acc: 1.0 Train loss: 0.0005484817259002739, Test acc: 1.0 Test loss: 0.0004389284789709791\n",
      "[Epoch 18] --> Train acc: 1.0 Train loss: 0.0003209113385906903, Test acc: 1.0 Test loss: 0.0002474784512429551\n",
      "[Epoch 19] --> Train acc: 1.0 Train loss: 0.00015544889222951497, Test acc: 1.0 Test loss: 0.00012826918026576095\n",
      "[Epoch 20] --> Train acc: 1.0 Train loss: 8.642672711545174e-05, Test acc: 1.0 Test loss: 6.41345939556004e-05\n"
     ]
    }
   ],
   "source": [
    "import matplotlib.pyplot as plt\n",
    "\n",
    "fig, ((ax1, ax2), (ax3, ax4), (ax5, ax6)) = plt.subplots(3, 2)\n",
    "fig.set_figheight(15)\n",
    "fig.set_figwidth(15)\n",
    "plot = [(ax1, ax3, ax5), (ax2, ax4, ax6)]\n",
    "\n",
    "for scaled in [False, True]:\n",
    "\n",
    "    for X_train, y_train, label in [(X_train10, y_train10, \"n=10\"), (X_train30, y_train30, \"n=30\"), (X_train100, y_train100, \"n=100\"), (X_train300, y_train300,\"n=300\")]:\n",
    "        \n",
    "        # plots\n",
    "        acc_plot, entropy_plot, att_plot = plot[scaled]\n",
    "\n",
    "        transformer = FirstTransformer(len(alphabet), layers, heads, d_model, d_ffnn, scaled, eps)\n",
    "        optim = torch.optim.Adam(transformer.parameters(), lr=0.0003)\n",
    "        \n",
    "        train_l = []\n",
    "        val_l = []\n",
    "        train_acc = []\n",
    "        val_acc = []\n",
    "\n",
    "        for epoch in range(epochs):\n",
    "\n",
    "            train_loss = train_correct = 0    \n",
    "            \n",
    "            # train step\n",
    "            for x, y in zip(X_train, y_train):\n",
    "\n",
    "                output = transformer(x)\n",
    "\n",
    "                if not y: output = -output\n",
    "\n",
    "                if output > 0: train_correct += 1\n",
    "\n",
    "                loss = -log_sigmoid(output)\n",
    "                train_loss += loss.item()\n",
    "                optim.zero_grad()\n",
    "                loss.backward()\n",
    "                optim.step()\n",
    "\n",
    "            # save statistic about training step\n",
    "            train_l.append(train_loss) # loss\n",
    "            train_acc.append(train_correct/len(X_train)) # accuracy\n",
    "                \n",
    "            # validation step\n",
    "            with torch.no_grad():\n",
    "\n",
    "                test_loss = test_correct = 0\n",
    "\n",
    "                for x, y in zip(X_test, y_test):\n",
    "\n",
    "                    output = transformer(x)\n",
    "\n",
    "    # print step info\n",
    "    print(f\"[Epoch {epoch+1}] --> Train acc: {train_correct/len(X_train)} Train loss: {train_loss}, Test acc: {test_correct/len(X_test)} Test loss: {test_loss}\", flush=True)"
   ]
  },
  {
   "cell_type": "code",
   "execution_count": 9,
   "metadata": {},
   "outputs": [
    {
     "data": {
      "image/png": "[encoded data removed]",
      "text/plain": [
       "<Figure size 432x288 with 1 Axes>"
      ]
     },
     "metadata": {
      "needs_background": "light"
     },
     "output_type": "display_data"
    }
   ],
   "source": [
    "import matplotlib.pyplot as plt\n",
    "\n",
    "fig = plt.figure()\n",
    "plt.plot(range(epoch+1), train_l, color='blue', lw=2)\n",
    "plt.plot(range(epoch+1), val_l, color='orange', lw=2)\n",
    "plt.yscale('log')\n",
    "plt.show()"
   ]
  },
  {
   "cell_type": "code",
   "execution_count": 10,
   "metadata": {},
   "outputs": [
    {
     "data": {
      "image/png": "[encoded data removed]",
      "text/plain": [
       "<Figure size 432x288 with 1 Axes>"
      ]
     },
     "metadata": {
      "needs_background": "light"
     },
     "output_type": "display_data"
    }
   ],
   "source": [
    "fig = plt.figure()\n",
    "plt.plot(range(epoch+1), train_acc, color='blue', lw=2)\n",
    "plt.plot(range(epoch+1), val_acc, color='orange', lw=2)\n",
    "plt.ylim([0, 1.1])\n",
    "\n",
    "handles, labels = ax1.get_legend_handles_labels()\n",
    "fig.legend(handles, labels, frameon=False, loc='lower center',  ncol=4)"
   ]
  }
 ],
 "metadata": {
  "interpreter": {
   "hash": "aee8b7b246df8f9039afb4144a1f6fd8d2ca17a180786b69acc140d282b71a49"
  },
  "kernelspec": {
   "display_name": "Python 3.9.7 64-bit",
   "language": "python",
   "name": "python3"
  },
  "language_info": {
   "codemirror_mode": {
    "name": "ipython",
    "version": 3
   },
   "file_extension": ".py",
   "mimetype": "text/x-python",
   "name": "python",
   "nbconvert_exporter": "python",
   "pygments_lexer": "ipython3",
   "version": "3.9.7"
  },
  "orig_nbformat": 4
 },
 "nbformat": 4,
 "nbformat_minor": 2
}
