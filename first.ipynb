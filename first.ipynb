{
 "cells": [
  {
   "cell_type": "markdown",
   "metadata": {},
   "source": [
    "# Overcoming a Theoretical Limitation of Self-Attention "
   ]
  },
  {
   "cell_type": "markdown",
   "metadata": {},
   "source": [
    "Replication of experiments on FIRST language learning from [Overcoming a Theoretical Limitation of Self-Attention  (Chiang and Cholak, 2022)](https://arxiv.org/pdf/2202.12172.pdf)."
   ]
  },
  {
   "cell_type": "code",
   "execution_count": 1,
   "metadata": {},
   "outputs": [],
   "source": [
    "from src.transformer import FirstTransformer, FirstExactTransformer\n",
    "import torch\n",
    "import pandas as pd"
   ]
  },
  {
   "cell_type": "markdown",
   "metadata": {},
   "source": [
    "Set the following to true to use the FirstExactTransformer, and to false to use FirstTransformer"
   ]
  },
  {
   "cell_type": "code",
   "execution_count": 2,
   "metadata": {},
   "outputs": [],
   "source": [
    "EXACT = True"
   ]
  },
  {
   "cell_type": "markdown",
   "metadata": {},
   "source": [
    "## Learning FIRST"
   ]
  },
  {
   "cell_type": "markdown",
   "metadata": {},
   "source": [
    "Define training parameters as in the original paper. Citing from (David Chiang and Peter Cholak, 2020):\n",
    "> We used `d_model` = 16 for word encodings, self-attention, and FFNN outputs, and `d_FFNN` = 64 for FFNN hidden layers. We used layer normalization (ε = 10^−5) after residual connections. We used PyTorch’s default initialization and trained using Adam (Kingma and Ba, 2015) with learning rate 3 × 10^−4 (Karpathy, 2016). We did not use dropout, as it did not seem to help."
   ]
  },
  {
   "cell_type": "code",
   "execution_count": 3,
   "metadata": {},
   "outputs": [],
   "source": [
    "log_sigmoid = torch.nn.LogSigmoid()\n",
    "alphabet = [\"0\", \"1\", \"$\"]\n",
    "\n",
    "epochs = 20\n",
    "layers = 2\n",
    "heads = 1 \n",
    "if EXACT:\n",
    "    d_model = 6 # do not change this!\n",
    "else:\n",
    "    d_model = 16\n",
    "d_ffnn = 64  \n",
    "scaled =False # log-length scaled attention\n",
    "eps = 1e-5 # value added to denominator in layer normalization\n"
   ]
  },
  {
   "cell_type": "markdown",
   "metadata": {},
   "source": [
    "Load training data and convert them to Tensor."
   ]
  },
  {
   "cell_type": "code",
   "execution_count": 4,
   "metadata": {},
   "outputs": [],
   "source": [
    "train = pd.read_csv(\"data/first/train.csv\")\n",
    "test = pd.read_csv(\"data/first/test.csv\")"
   ]
  },
  {
   "cell_type": "code",
   "execution_count": 5,
   "metadata": {},
   "outputs": [],
   "source": [
    "X_train, y_train = train['sequence'].values, train['label'].values\n",
    "X_test, y_test = test['sequence'].values, test['label'].values"
   ]
  },
  {
   "cell_type": "code",
   "execution_count": 6,
   "metadata": {},
   "outputs": [],
   "source": [
    "alphabet_index = {a:i for i,a in enumerate(alphabet)}\n",
    "\n",
    "def _encode(s: str) -> torch.Tensor:\n",
    "    t = torch.tensor([alphabet_index[c] for c in s])\n",
    "    return t\n",
    "\n",
    "X_train = [_encode(s) for s in X_train]\n",
    "X_test = [_encode(s) for s in X_test]"
   ]
  },
  {
   "cell_type": "markdown",
   "metadata": {},
   "source": [
    "Initialize the Transformer to learn FIRST."
   ]
  },
  {
   "cell_type": "code",
   "execution_count": 7,
   "metadata": {},
   "outputs": [],
   "source": [
    "transformer = \\\n",
    "    FirstExactTransformer(len(alphabet), d_model) if EXACT \\\n",
    "    else FirstTransformer(len(alphabet), layers, heads, d_model, d_ffnn, scaled, eps)\n",
    "optim = torch.optim.Adam(transformer.parameters(), lr=0.0003)"
   ]
  },
  {
   "cell_type": "markdown",
   "metadata": {},
   "source": [
    "Training cycle."
   ]
  },
  {
   "cell_type": "code",
   "execution_count": 8,
   "metadata": {},
   "outputs": [
    {
     "name": "stdout",
     "output_type": "stream",
     "text": [
      "[Epoch 1] --> Train acc: 0.488 Train loss: 697.8921571075916, Test acc: 0.538 Test loss: 689.3395404815674\n",
      "[Epoch 2] --> Train acc: 0.539 Train loss: 689.9974260926247, Test acc: 0.538 Test loss: 689.4695191383362\n",
      "[Epoch 3] --> Train acc: 0.539 Train loss: 689.8583039045334, Test acc: 0.538 Test loss: 689.246275305748\n",
      "[Epoch 4] --> Train acc: 0.543 Train loss: 689.595768392086, Test acc: 0.538 Test loss: 689.1809598207474\n",
      "[Epoch 5] --> Train acc: 0.546 Train loss: 689.1061386466026, Test acc: 0.538 Test loss: 688.3263248801231\n",
      "[Epoch 6] --> Train acc: 0.548 Train loss: 687.6956053376198, Test acc: 0.538 Test loss: 685.9506270885468\n",
      "[Epoch 7] --> Train acc: 0.642 Train loss: 665.7353516817093, Test acc: 1.0 Test loss: 507.30830079317093\n",
      "[Epoch 8] --> Train acc: 1.0 Train loss: 166.27936237305403, Test acc: 1.0 Test loss: 37.48998884111643\n",
      "[Epoch 9] --> Train acc: 1.0 Train loss: 17.286808978766203, Test acc: 1.0 Test loss: 7.189132515806705\n",
      "[Epoch 10] --> Train acc: 1.0 Train loss: 4.181017662631348, Test acc: 1.0 Test loss: 2.2914808597415686\n",
      "[Epoch 11] --> Train acc: 1.0 Train loss: 1.4807305311551318, Test acc: 1.0 Test loss: 0.9126362455426715\n",
      "[Epoch 12] --> Train acc: 1.0 Train loss: 0.6230424982786644, Test acc: 1.0 Test loss: 0.4080256868619472\n",
      "[Epoch 13] --> Train acc: 1.0 Train loss: 0.2876873050845461, Test acc: 1.0 Test loss: 0.19596130371792242\n",
      "[Epoch 14] --> Train acc: 1.0 Train loss: 0.1473904866434168, Test acc: 1.0 Test loss: 0.1080357574755908\n",
      "[Epoch 15] --> Train acc: 1.0 Train loss: 0.08207862869312521, Test acc: 1.0 Test loss: 0.06066346593797789\n",
      "[Epoch 16] --> Train acc: 1.0 Train loss: 0.04617195158607501, Test acc: 1.0 Test loss: 0.03415701401718252\n",
      "[Epoch 17] --> Train acc: 1.0 Train loss: 0.02598665729055938, Test acc: 1.0 Test loss: 0.019214429204112093\n",
      "[Epoch 18] --> Train acc: 1.0 Train loss: 0.014602421854306158, Test acc: 1.0 Test loss: 0.010786945477775589\n",
      "[Epoch 19] --> Train acc: 1.0 Train loss: 0.008195004067147238, Test acc: 1.0 Test loss: 0.006047585874512151\n",
      "[Epoch 20] --> Train acc: 1.0 Train loss: 0.004596817090032346, Test acc: 1.0 Test loss: 0.0034090213412127923\n"
     ]
    }
   ],
   "source": [
    "train_l = []\n",
    "val_l = []\n",
    "train_acc = []\n",
    "val_acc = []\n",
    "\n",
    "for epoch in range(epochs):\n",
    "\n",
    "    train_loss = train_correct = 0    \n",
    "    \n",
    "    # train step\n",
    "    for x, y in zip(X_train, y_train):\n",
    "\n",
    "        output = transformer(x)\n",
    "\n",
    "        if not y: output = -output\n",
    "\n",
    "        if output > 0: train_correct += 1\n",
    "\n",
    "        loss = -log_sigmoid(output)\n",
    "        train_loss += loss.item()\n",
    "        optim.zero_grad()\n",
    "        loss.backward()\n",
    "        optim.step()\n",
    "\n",
    "    # save statistic about training step\n",
    "    train_l.append(train_loss) # loss\n",
    "    train_acc.append(train_correct/len(X_train)) # accuracy\n",
    "        \n",
    "    # validation step\n",
    "    with torch.no_grad():\n",
    "\n",
    "        test_loss = test_correct = 0\n",
    "\n",
    "        for x, y in zip(X_test, y_test):\n",
    "\n",
    "            output = transformer(x)\n",
    "\n",
    "            if not y: output = -output\n",
    "\n",
    "            if output > 0: test_correct += 1\n",
    "\n",
    "            loss = -log_sigmoid(output)\n",
    "            test_loss += loss.item()\n",
    "\n",
    "    # save statistic about validation step\n",
    "    val_l.append(test_loss) # loss\n",
    "    val_acc.append(test_correct/len(X_test)) # accuracy\n",
    "\n",
    "    # print step info\n",
    "    print(f\"[Epoch {epoch+1}] --> Train acc: {train_correct/len(X_train)} Train loss: {train_loss}, Test acc: {test_correct/len(X_test)} Test loss: {test_loss}\", flush=True)"
   ]
  },
  {
   "cell_type": "code",
   "execution_count": 9,
   "metadata": {},
   "outputs": [
    {
     "data": {
      "image/png": "[encoded data removed]",
      "text/plain": [
       "<Figure size 432x288 with 1 Axes>"
      ]
     },
     "metadata": {
      "needs_background": "light"
     },
     "output_type": "display_data"
    }
   ],
   "source": [
    "import matplotlib.pyplot as plt\n",
    "\n",
    "fig = plt.figure()\n",
    "plt.plot(range(epoch+1), train_l, color='blue', lw=2)\n",
    "plt.plot(range(epoch+1), val_l, color='orange', lw=2)\n",
    "plt.yscale('log')\n",
    "plt.show()"
   ]
  },
  {
   "cell_type": "code",
   "execution_count": 10,
   "metadata": {},
   "outputs": [
    {
     "data": {
      "image/png": "[encoded data removed]",
      "text/plain": [
       "<Figure size 432x288 with 1 Axes>"
      ]
     },
     "metadata": {
      "needs_background": "light"
     },
     "output_type": "display_data"
    }
   ],
   "source": [
    "fig = plt.figure()\n",
    "plt.plot(range(epoch+1), train_acc, color='blue', lw=2)\n",
    "plt.plot(range(epoch+1), val_acc, color='orange', lw=2)\n",
    "plt.ylim([0, 1.1])\n",
    "\n",
    "plt.show()"
   ]
  }
 ],
 "metadata": {
  "interpreter": {
   "hash": "aee8b7b246df8f9039afb4144a1f6fd8d2ca17a180786b69acc140d282b71a49"
  },
  "kernelspec": {
   "display_name": "Python 3.9.7 64-bit",
   "language": "python",
   "name": "python3"
  },
  "language_info": {
   "codemirror_mode": {
    "name": "ipython",
    "version": 3
   },
   "file_extension": ".py",
   "mimetype": "text/x-python",
   "name": "python",
   "nbconvert_exporter": "python",
   "pygments_lexer": "ipython3",
   "version": "3.9.7"
  },
  "orig_nbformat": 4
 },
 "nbformat": 4,
 "nbformat_minor": 2
}
