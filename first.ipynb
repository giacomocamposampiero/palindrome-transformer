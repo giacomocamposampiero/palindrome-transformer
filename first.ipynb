{
 "cells": [
  {
   "cell_type": "markdown",
   "metadata": {},
   "source": [
    "# Overcoming a Theoretical Limitation of Self-Attention "
   ]
  },
  {
   "cell_type": "markdown",
   "metadata": {},
   "source": [
    "Replication of experiments on FIRST language learning from [Overcoming a Theoretical Limitation of Self-Attention  (Chiang and Cholak, 2022)](https://arxiv.org/pdf/2202.12172.pdf)."
   ]
  },
  {
   "cell_type": "code",
   "execution_count": 1,
   "metadata": {},
   "outputs": [],
   "source": [
    "from src.transformer import FirstTransformer, FirstExactTransformer\n",
    "import torch\n",
    "import pandas as pd"
   ]
  },
  {
   "cell_type": "markdown",
   "metadata": {},
   "source": [
    "Set the following to true to use the FirstExactTransformer, and to false to use FirstTransformer"
   ]
  },
  {
   "cell_type": "code",
   "execution_count": 2,
   "metadata": {},
   "outputs": [],
   "source": [
    "EXACT = True"
   ]
  },
  {
   "cell_type": "markdown",
   "metadata": {},
   "source": [
    "## Learning FIRST"
   ]
  },
  {
   "cell_type": "markdown",
   "metadata": {},
   "source": [
    "Define training parameters as in the original paper. Citing from (David Chiang and Peter Cholak, 2020):\n",
    "> We used `d_model` = 16 for word encodings, self-attention, and FFNN outputs, and `d_FFNN` = 64 for FFNN hidden layers. We used layer normalization (ε = 10^−5) after residual connections. We used PyTorch’s default initialization and trained using Adam (Kingma and Ba, 2015) with learning rate 3 × 10^−4 (Karpathy, 2016). We did not use dropout, as it did not seem to help."
   ]
  },
  {
   "cell_type": "code",
   "execution_count": 3,
   "metadata": {},
   "outputs": [],
   "source": [
    "log_sigmoid = torch.nn.LogSigmoid()\n",
    "alphabet = [\"0\", \"1\", \"$\"]\n",
    "\n",
    "epochs = 20\n",
    "layers = 2\n",
    "heads = 1 \n",
    "if EXACT:\n",
    "    d_model = 6 # do not change this!\n",
    "else:\n",
    "    d_model = 16\n",
    "d_ffnn = 64  \n",
    "scaled =False # log-length scaled attention\n",
    "eps = 1e-5 # value added to denominator in layer normalization\n"
   ]
  },
  {
   "cell_type": "markdown",
   "metadata": {},
   "source": [
    "Load training data and convert them to Tensor."
   ]
  },
  {
   "cell_type": "code",
   "execution_count": 4,
   "metadata": {},
   "outputs": [],
   "source": [
    "train = pd.read_csv(\"data/first/train.csv\")\n",
    "test = pd.read_csv(\"data/first/test.csv\")"
   ]
  },
  {
   "cell_type": "code",
   "execution_count": 5,
   "metadata": {},
   "outputs": [],
   "source": [
    "X_train, y_train = train['sequence'].values, train['label'].values\n",
    "X_test, y_test = test['sequence'].values, test['label'].values"
   ]
  },
  {
   "cell_type": "code",
   "execution_count": 6,
   "metadata": {},
   "outputs": [],
   "source": [
    "alphabet_index = {a:i for i,a in enumerate(alphabet)}\n",
    "\n",
    "def _encode(s: str) -> torch.Tensor:\n",
    "    t = torch.tensor([alphabet_index[c] for c in s])\n",
    "    return t\n",
    "\n",
    "X_train = [_encode(s) for s in X_train]\n",
    "X_test = [_encode(s) for s in X_test]"
   ]
  },
  {
   "cell_type": "markdown",
   "metadata": {},
   "source": [
    "Initialize the Transformer to learn FIRST."
   ]
  },
  {
   "cell_type": "code",
   "execution_count": 7,
   "metadata": {},
   "outputs": [],
   "source": [
    "transformer = \\\n",
    "    FirstExactTransformer(len(alphabet), d_model) if EXACT \\\n",
    "    else FirstTransformer(len(alphabet), layers, heads, d_model, d_ffnn, scaled, eps)\n",
    "optim = torch.optim.Adam(transformer.parameters(), lr=0.0003)"
   ]
  },
  {
   "cell_type": "markdown",
   "metadata": {},
   "source": [
    "Training cycle."
   ]
  },
  {
   "cell_type": "code",
   "execution_count": 8,
   "metadata": {},
   "outputs": [
    {
     "name": "stdout",
     "output_type": "stream",
     "text": [
      "[Epoch 1] --> Train acc: 0.507 Train loss: 692.3180582523346, Test acc: 0.538 Test loss: 691.9574068784714\n",
      "[Epoch 2] --> Train acc: 0.517 Train loss: 692.2755734324455, Test acc: 0.538 Test loss: 691.718259871006\n",
      "[Epoch 3] --> Train acc: 0.523 Train loss: 692.0472868978977, Test acc: 0.538 Test loss: 691.47044095397\n",
      "[Epoch 4] --> Train acc: 0.523 Train loss: 691.8273693323135, Test acc: 0.538 Test loss: 691.234771758318\n",
      "[Epoch 5] --> Train acc: 0.525 Train loss: 691.6110912561417, Test acc: 0.538 Test loss: 691.0009226500988\n",
      "[Epoch 6] --> Train acc: 0.528 Train loss: 691.3880535364151, Test acc: 0.538 Test loss: 690.7549764513969\n",
      "[Epoch 7] --> Train acc: 0.532 Train loss: 691.1401320695877, Test acc: 0.538 Test loss: 690.4696444272995\n",
      "[Epoch 8] --> Train acc: 0.533 Train loss: 690.8216692209244, Test acc: 0.538 Test loss: 690.0713421106339\n",
      "[Epoch 9] --> Train acc: 0.534 Train loss: 690.3458139300346, Test acc: 0.538 Test loss: 689.5076800584793\n",
      "[Epoch 10] --> Train acc: 0.537 Train loss: 689.753986954689, Test acc: 0.538 Test loss: 688.8902258276939\n",
      "[Epoch 11] --> Train acc: 0.538 Train loss: 689.118535399437, Test acc: 0.538 Test loss: 688.2442293763161\n",
      "[Epoch 12] --> Train acc: 0.538 Train loss: 688.4316968917847, Test acc: 0.538 Test loss: 687.5344247817993\n",
      "[Epoch 13] --> Train acc: 0.538 Train loss: 687.6357331871986, Test acc: 0.538 Test loss: 686.6817622184753\n",
      "[Epoch 14] --> Train acc: 0.538 Train loss: 686.6121490001678, Test acc: 0.538 Test loss: 685.511578142643\n",
      "[Epoch 15] --> Train acc: 0.538 Train loss: 684.9363427758217, Test acc: 0.538 Test loss: 683.0784441828728\n",
      "[Epoch 16] --> Train acc: 0.709 Train loss: 651.2110816836357, Test acc: 1.0 Test loss: 378.29132825136185\n",
      "[Epoch 17] --> Train acc: 1.0 Train loss: 127.55052389763296, Test acc: 1.0 Test loss: 28.21416220255196\n",
      "[Epoch 18] --> Train acc: 1.0 Train loss: 11.569045026088133, Test acc: 1.0 Test loss: 4.411088575376198\n",
      "[Epoch 19] --> Train acc: 1.0 Train loss: 2.587396133458242, Test acc: 1.0 Test loss: 1.4576385766267776\n",
      "[Epoch 20] --> Train acc: 1.0 Train loss: 0.9657477945438586, Test acc: 1.0 Test loss: 0.6167971312534064\n"
     ]
    }
   ],
   "source": [
    "train_l = []\n",
    "val_l = []\n",
    "train_acc = []\n",
    "val_acc = []\n",
    "\n",
    "for epoch in range(epochs):\n",
    "\n",
    "    train_loss = train_correct = 0    \n",
    "    \n",
    "    # train step\n",
    "    for x, y in zip(X_train, y_train):\n",
    "\n",
    "        output = transformer(x)\n",
    "\n",
    "        if not y: output = -output\n",
    "\n",
    "        if output > 0: train_correct += 1\n",
    "\n",
    "        loss = -log_sigmoid(output)\n",
    "        train_loss += loss.item()\n",
    "        optim.zero_grad()\n",
    "        loss.backward()\n",
    "        optim.step()\n",
    "\n",
    "    # save statistic about training step\n",
    "    train_l.append(train_loss) # loss\n",
    "    train_acc.append(train_correct/len(X_train)) # accuracy\n",
    "        \n",
    "    # validation step\n",
    "    with torch.no_grad():\n",
    "\n",
    "        test_loss = test_correct = 0\n",
    "\n",
    "        for x, y in zip(X_test, y_test):\n",
    "\n",
    "            output = transformer(x)\n",
    "\n",
    "            if not y: output = -output\n",
    "\n",
    "            if output > 0: test_correct += 1\n",
    "\n",
    "            loss = -log_sigmoid(output)\n",
    "            test_loss += loss.item()\n",
    "\n",
    "    # save statistic about validation step\n",
    "    val_l.append(test_loss) # loss\n",
    "    val_acc.append(test_correct/len(X_test)) # accuracy\n",
    "\n",
    "    # print step info\n",
    "    print(f\"[Epoch {epoch+1}] --> Train acc: {train_correct/len(X_train)} Train loss: {train_loss}, Test acc: {test_correct/len(X_test)} Test loss: {test_loss}\", flush=True)"
   ]
  },
  {
   "cell_type": "code",
   "execution_count": 9,
   "metadata": {},
   "outputs": [
    {
     "data": {
      "image/png": "[encoded data removed]",
      "text/plain": [
       "<Figure size 432x288 with 1 Axes>"
      ]
     },
     "metadata": {
      "needs_background": "light"
     },
     "output_type": "display_data"
    }
   ],
   "source": [
    "import matplotlib.pyplot as plt\n",
    "\n",
    "fig = plt.figure()\n",
    "plt.plot(range(epoch+1), train_l, color='blue', lw=2)\n",
    "plt.plot(range(epoch+1), val_l, color='orange', lw=2)\n",
    "plt.yscale('log')\n",
    "plt.show()"
   ]
  },
  {
   "cell_type": "code",
   "execution_count": 10,
   "metadata": {},
   "outputs": [
    {
     "data": {
      "image/png": "[encoded data removed]",
      "text/plain": [
       "<Figure size 432x288 with 1 Axes>"
      ]
     },
     "metadata": {
      "needs_background": "light"
     },
     "output_type": "display_data"
    }
   ],
   "source": [
    "fig = plt.figure()\n",
    "plt.plot(range(epoch+1), train_acc, color='blue', lw=2)\n",
    "plt.plot(range(epoch+1), val_acc, color='orange', lw=2)\n",
    "plt.ylim([0, 1.1])\n",
    "\n",
    "plt.show()"
   ]
  }
 ],
 "metadata": {
  "interpreter": {
   "hash": "aee8b7b246df8f9039afb4144a1f6fd8d2ca17a180786b69acc140d282b71a49"
  },
  "kernelspec": {
   "display_name": "Python 3.9.7 64-bit",
   "language": "python",
   "name": "python3"
  },
  "language_info": {
   "codemirror_mode": {
    "name": "ipython",
    "version": 3
   },
   "file_extension": ".py",
   "mimetype": "text/x-python",
   "name": "python",
   "nbconvert_exporter": "python",
   "pygments_lexer": "ipython3",
   "version": "3.9.7"
  },
  "orig_nbformat": 4
 },
 "nbformat": 4,
 "nbformat_minor": 2
}
