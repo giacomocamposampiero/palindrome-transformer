{
 "cells": [
  {
   "cell_type": "markdown",
   "metadata": {},
   "source": [
    "# Overcoming a Theoretical Limitation of Self-Attention "
   ]
  },
  {
   "cell_type": "markdown",
   "metadata": {},
   "source": [
    "Replication of experiments on FIRST language learning from [Overcoming a Theoretical Limitation of Self-Attention  (Chiang and Cholak, 2022)](https://arxiv.org/pdf/2202.12172.pdf)."
   ]
  },
  {
   "cell_type": "code",
   "execution_count": 1,
   "metadata": {},
   "outputs": [],
   "source": [
    "from src.transformer import FirstTransformer, FirstExactTransformer\n",
    "import torch\n",
    "import pandas as pd"
   ]
  },
  {
   "cell_type": "markdown",
   "metadata": {},
   "source": [
    "Set the following to true to use the FirstExactTransformer, and to false to use FirstTransformer"
   ]
  },
  {
   "cell_type": "code",
   "execution_count": 2,
   "metadata": {},
   "outputs": [],
   "source": [
    "EXACT = False"
   ]
  },
  {
   "cell_type": "markdown",
   "metadata": {},
   "source": [
    "## Learning FIRST"
   ]
  },
  {
   "cell_type": "markdown",
   "metadata": {},
   "source": [
    "Define training parameters as in the original paper. Citing from (David Chiang and Peter Cholak, 2020):\n",
    "> We used `d_model` = 16 for word encodings, self-attention, and FFNN outputs, and `d_FFNN` = 64 for FFNN hidden layers. We used layer normalization (ε = 10^−5) after residual connections. We used PyTorch’s default initialization and trained using Adam (Kingma and Ba, 2015) with learning rate 3 × 10^−4 (Karpathy, 2016). We did not use dropout, as it did not seem to help."
   ]
  },
  {
   "cell_type": "code",
   "execution_count": 3,
   "metadata": {},
   "outputs": [],
   "source": [
    "vocab = [\"0\", \"1\", \"$\"]\n",
    "\n",
    "epochs = 20\n",
    "layers = 2\n",
    "heads = 1 \n",
    "if EXACT:\n",
    "    d_model = 6 # do not change this!\n",
    "else:\n",
    "    d_model = 16\n",
    "d_ffnn = 64  \n",
    "eps = 1e-5 # value added to denominator in layer normalization\n",
    "scaled = False"
   ]
  },
  {
   "cell_type": "markdown",
   "metadata": {},
   "source": [
    "### Generalization experiment"
   ]
  },
  {
   "cell_type": "markdown",
   "metadata": {},
   "source": [
    "Initialize the Transformer to learn FIRST."
   ]
  },
  {
   "cell_type": "code",
   "execution_count": 4,
   "metadata": {},
   "outputs": [],
   "source": [
    "transformer = \\\n",
    "    FirstExactTransformer(len(vocab), d_model) if EXACT \\\n",
    "    else FirstTransformer(len(vocab), layers, heads, d_model, d_ffnn, scaled, eps)\n",
    "optim = torch.optim.Adam(transformer.parameters(), lr=0.0003)"
   ]
  },
  {
   "cell_type": "markdown",
   "metadata": {},
   "source": [
    "Define model trainer and train the transformer."
   ]
  },
  {
   "cell_type": "code",
   "execution_count": 5,
   "metadata": {},
   "outputs": [
    {
     "name": "stdout",
     "output_type": "stream",
     "text": [
      "[Epoch 1] Train acc: 0.55 Train loss: 69.17926096916199, Test acc: 0.48 Test loss: 70.33620464801788\n",
      "[Epoch 2] Train acc: 0.57 Train loss: 69.11812791228294, Test acc: 0.48 Test loss: 69.90655583143234\n",
      "[Epoch 3] Train acc: 0.67 Train loss: 64.07886922359467, Test acc: 0.45 Test loss: 70.56027293205261\n",
      "[Epoch 4] Train acc: 0.87 Train loss: 45.15119554102421, Test acc: 0.48 Test loss: 79.23927083611488\n",
      "[Epoch 5] Train acc: 1.0 Train loss: 12.599037550389767, Test acc: 0.58 Test loss: 100.16836406290531\n",
      "[Epoch 6] Train acc: 1.0 Train loss: 7.622447665780783, Test acc: 0.49 Test loss: 128.7223361954093\n",
      "[Epoch 7] Train acc: 1.0 Train loss: 6.109425690025091, Test acc: 0.46 Test loss: 146.6812758371234\n",
      "[Epoch 8] Train acc: 1.0 Train loss: 5.069555997848511, Test acc: 0.42 Test loss: 166.839982829988\n",
      "[Epoch 9] Train acc: 1.0 Train loss: 4.244222259148955, Test acc: 0.49 Test loss: 156.66652257367969\n",
      "[Epoch 10] Train acc: 1.0 Train loss: 3.4586247000843287, Test acc: 0.52 Test loss: 156.70745497569442\n",
      "[Epoch 11] Train acc: 1.0 Train loss: 2.8557020388543606, Test acc: 0.48 Test loss: 176.86510519310832\n",
      "[Epoch 12] Train acc: 1.0 Train loss: 2.506908481940627, Test acc: 0.62 Test loss: 135.93420524522662\n",
      "[Epoch 13] Train acc: 1.0 Train loss: 2.150766035541892, Test acc: 0.42 Test loss: 215.21571257710457\n",
      "[Epoch 14] Train acc: 1.0 Train loss: 1.7902872115373611, Test acc: 0.51 Test loss: 188.60860808752477\n",
      "[Epoch 15] Train acc: 1.0 Train loss: 1.550442541949451, Test acc: 0.42 Test loss: 231.4777980297804\n",
      "[Epoch 16] Train acc: 1.0 Train loss: 1.3350084042176604, Test acc: 0.46 Test loss: 222.43982434086502\n",
      "[Epoch 17] Train acc: 1.0 Train loss: 1.2051952984184027, Test acc: 0.48 Test loss: 222.2053621672094\n",
      "[Epoch 18] Train acc: 1.0 Train loss: 1.0389563338831067, Test acc: 0.44 Test loss: 245.82423086930066\n",
      "[Epoch 19] Train acc: 1.0 Train loss: 0.9280222896486521, Test acc: 0.51 Test loss: 221.5524268038571\n",
      "[Epoch 20] Train acc: 1.0 Train loss: 0.8223657649941742, Test acc: 0.46 Test loss: 250.583933474496\n"
     ]
    }
   ],
   "source": [
    "from src.trainer import Trainer\n",
    "from src.dataset import Dataset\n",
    "\n",
    "trainset = Dataset(0, 100, 10, random_seed=42, train=True, data_type='first', variable_lenght=False)\n",
    "testset = Dataset(0, 100, 1000,  random_seed=42,  train=False, data_type='first', variable_lenght=False)\n",
    "\n",
    "trainer = Trainer(0, transformer, optim, vocab, epochs, trainset, testset, verbose=1)\n",
    "train_l, val_l, train_acc, val_acc = trainer.train()"
   ]
  },
  {
   "cell_type": "code",
   "execution_count": 6,
   "metadata": {},
   "outputs": [
    {
     "data": {
      "image/png": "[encoded data removed]",
      "text/plain": [
       "<Figure size 432x288 with 1 Axes>"
      ]
     },
     "metadata": {
      "needs_background": "light"
     },
     "output_type": "display_data"
    }
   ],
   "source": [
    "import matplotlib.pyplot as plt\n",
    "\n",
    "fig = plt.figure()\n",
    "plt.plot(range(epochs), train_l, color='blue', lw=2)\n",
    "plt.plot(range(epochs), val_l, color='orange', lw=2)\n",
    "plt.yscale('log')\n",
    "plt.show()"
   ]
  },
  {
   "cell_type": "code",
   "execution_count": 7,
   "metadata": {},
   "outputs": [
    {
     "data": {
      "text/plain": [
       "<matplotlib.legend.Legend at 0x108219700>"
      ]
     },
     "execution_count": 7,
     "metadata": {},
     "output_type": "execute_result"
    },
    {
     "data": {
      "image/png": "[encoded data removed]",
      "text/plain": [
       "<Figure size 432x288 with 1 Axes>"
      ]
     },
     "metadata": {
      "needs_background": "light"
     },
     "output_type": "display_data"
    }
   ],
   "source": [
    "fig = plt.figure()\n",
    "plt.plot(range(epochs), train_acc, color='blue', lw=2)\n",
    "plt.plot(range(epochs), val_acc, color='orange', lw=2)\n",
    "plt.ylim([0, 1.1])\n",
    "\n",
    "ax = plt.gca()\n",
    "\n",
    "handles, labels = ax.get_legend_handles_labels()\n",
    "fig.legend(handles, labels, frameon=False, loc='lower center',  ncol=4)"
   ]
  }
 ],
 "metadata": {
  "kernelspec": {
   "display_name": "Python 3.9.6 ('aflt-proj')",
   "language": "python",
   "name": "python3"
  },
  "language_info": {
   "codemirror_mode": {
    "name": "ipython",
    "version": 3
   },
   "file_extension": ".py",
   "mimetype": "text/x-python",
   "name": "python",
   "nbconvert_exporter": "python",
   "pygments_lexer": "ipython3",
   "version": "3.9.6"
  },
  "orig_nbformat": 4,
  "vscode": {
   "interpreter": {
    "hash": "e79681ef656beecc23f40fa8189b5ee6b5f2b38db808810ba34977390d131671"
   }
  }
 },
 "nbformat": 4,
 "nbformat_minor": 2
}
