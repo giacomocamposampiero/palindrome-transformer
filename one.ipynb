{
 "cells": [
  {
   "cell_type": "markdown",
   "metadata": {},
   "source": [
    "# Overcoming a Theoretical Limitation of Self-Attention "
   ]
  },
  {
   "cell_type": "markdown",
   "metadata": {},
   "source": [
    "Replication of experiments on FIRST language learning from [Overcoming a Theoretical Limitation of Self-Attention  (Chiang and Cholak, 2022)](https://arxiv.org/pdf/2202.12172.pdf)."
   ]
  },
  {
   "cell_type": "code",
   "execution_count": 1,
   "metadata": {},
   "outputs": [],
   "source": [
    "from src.transformer import OneTransformer\n",
    "import torch"
   ]
  },
  {
   "cell_type": "markdown",
   "metadata": {},
   "source": [
    "## Learning FIRST"
   ]
  },
  {
   "cell_type": "markdown",
   "metadata": {},
   "source": [
    "Define training parameters as in the original paper. Citing from (David Chiang and Peter Cholak, 2020):\n",
    "> We used `d_model` = 16 for word encodings, self-attention, and FFNN outputs, and `d_FFNN` = 64 for FFNN hidden layers. We used layer normalization (ε = 10^−5) after residual connections. We used PyTorch’s default initialization and trained using Adam (Kingma and Ba, 2015) with learning rate 3 × 10^−4 (Karpathy, 2016). We did not use dropout, as it did not seem to help."
   ]
  },
  {
   "cell_type": "code",
   "execution_count": 2,
   "metadata": {},
   "outputs": [],
   "source": [
    "vocab = [\"0\", \"1\", \"$\"]\n",
    "\n",
    "epochs = 30\n",
    "layers = 2\n",
    "heads = 1 \n",
    "d_model = 16\n",
    "d_ffnn = 64  \n",
    "eps = 1e-5 # value added to denominator in layer normalization\n",
    "scaled = False"
   ]
  },
  {
   "cell_type": "markdown",
   "metadata": {},
   "source": [
    "### Generalization experiment"
   ]
  },
  {
   "cell_type": "markdown",
   "metadata": {},
   "source": [
    "Initialize the Transformer to learn FIRST."
   ]
  },
  {
   "cell_type": "code",
   "execution_count": 3,
   "metadata": {},
   "outputs": [],
   "source": [
    "transformer = OneTransformer(len(vocab), layers, heads, d_model, d_ffnn, scaled, eps)\n",
    "optim = torch.optim.Adam(transformer.parameters(), lr=0.0003)"
   ]
  },
  {
   "cell_type": "markdown",
   "metadata": {},
   "source": [
    "Define model trainer and train the transformer."
   ]
  },
  {
   "cell_type": "code",
   "execution_count": 4,
   "metadata": {},
   "outputs": [
    {
     "name": "stdout",
     "output_type": "stream",
     "text": [
      "[Epoch 1] Train acc: 0.66 Train loss: 64.2118452489376, Test acc: 0.74 Test loss: 58.5641225874424\n",
      "[Epoch 2] Train acc: 0.66 Train loss: 64.88149955868721, Test acc: 0.66 Test loss: 65.06826198101044\n",
      "[Epoch 3] Train acc: 0.73 Train loss: 58.83504754304886, Test acc: 0.67 Test loss: 64.35054612159729\n",
      "[Epoch 4] Train acc: 0.62 Train loss: 68.56305000185966, Test acc: 0.78 Test loss: 60.03744241595268\n",
      "[Epoch 5] Train acc: 0.68 Train loss: 63.74231797456741, Test acc: 0.61 Test loss: 67.67716526985168\n",
      "[Epoch 6] Train acc: 0.66 Train loss: 64.98323646187782, Test acc: 0.64 Test loss: 65.6452534198761\n",
      "[Epoch 7] Train acc: 0.66 Train loss: 64.66060608625412, Test acc: 0.67 Test loss: 63.6504203081131\n",
      "[Epoch 8] Train acc: 0.63 Train loss: 66.44975700974464, Test acc: 0.58 Test loss: 69.12327587604523\n",
      "[Epoch 9] Train acc: 0.72 Train loss: 59.49192416667938, Test acc: 0.68 Test loss: 64.29363280534744\n",
      "[Epoch 10] Train acc: 0.74 Train loss: 57.98029068112373, Test acc: 0.61 Test loss: 76.71189641952515\n",
      "[Epoch 11] Train acc: 0.74 Train loss: 57.71922405064106, Test acc: 0.6 Test loss: 75.5466962903738\n",
      "[Epoch 12] Train acc: 0.6 Train loss: 70.33791510760784, Test acc: 0.72 Test loss: 60.327744752168655\n",
      "[Epoch 13] Train acc: 0.64 Train loss: 65.68019235134125, Test acc: 0.67 Test loss: 63.66512218117714\n",
      "[Epoch 14] Train acc: 0.69 Train loss: 62.119391947984695, Test acc: 0.63 Test loss: 72.6486673951149\n",
      "[Epoch 15] Train acc: 0.67 Train loss: 63.03457126021385, Test acc: 0.62 Test loss: 75.2357308268547\n",
      "[Epoch 16] Train acc: 0.7 Train loss: 60.46331463754177, Test acc: 0.61 Test loss: 80.39182507991791\n",
      "[Epoch 17] Train acc: 0.66 Train loss: 60.06969566643238, Test acc: 0.67 Test loss: 78.06781959533691\n",
      "[Epoch 18] Train acc: 0.66 Train loss: 52.92597556114197, Test acc: 0.47 Test loss: 80.04116335511208\n",
      "[Epoch 19] Train acc: 1.0 Train loss: 23.924025811254978, Test acc: 0.65 Test loss: 92.06856290251017\n",
      "[Epoch 20] Train acc: 1.0 Train loss: 9.671353965997696, Test acc: 0.63 Test loss: 102.41406201571226\n",
      "[Epoch 21] Train acc: 1.0 Train loss: 6.537464797496796, Test acc: 0.59 Test loss: 119.7799121029675\n",
      "[Epoch 22] Train acc: 1.0 Train loss: 5.221630875021219, Test acc: 0.75 Test loss: 79.62360225990415\n",
      "[Epoch 23] Train acc: 1.0 Train loss: 4.298634026199579, Test acc: 0.65 Test loss: 115.41538071632385\n",
      "[Epoch 24] Train acc: 1.0 Train loss: 3.564078899100423, Test acc: 0.7 Test loss: 104.43174125999212\n",
      "[Epoch 25] Train acc: 1.0 Train loss: 2.979401521384716, Test acc: 0.67 Test loss: 119.98584411665797\n",
      "[Epoch 26] Train acc: 1.0 Train loss: 2.511151622980833, Test acc: 0.6 Test loss: 151.30509253777564\n",
      "[Epoch 27] Train acc: 1.0 Train loss: 2.1376230623573065, Test acc: 0.62 Test loss: 149.82164046168327\n",
      "[Epoch 28] Train acc: 1.0 Train loss: 1.8137045297771692, Test acc: 0.58 Test loss: 171.61420532874763\n",
      "[Epoch 29] Train acc: 1.0 Train loss: 1.5627448661252856, Test acc: 0.72 Test loss: 118.99679829366505\n",
      "[Epoch 30] Train acc: 1.0 Train loss: 1.3468114724382758, Test acc: 0.75 Test loss: 109.73743891529739\n"
     ]
    }
   ],
   "source": [
    "from src.trainer import Trainer\n",
    "from src.dataset import Dataset\n",
    "\n",
    "trainset = Dataset(0, 100, 100, random_seed=42, train=True, data_type='one', variable_lenght=False)\n",
    "testset = Dataset(0, 100, 10,  random_seed=42,  train=False, data_type='one', variable_lenght=False)\n",
    "\n",
    "trainer = Trainer(0, transformer, optim, vocab, epochs, trainset, testset, verbose=1)\n",
    "train_l, val_l, train_acc, val_acc = trainer.train()"
   ]
  },
  {
   "cell_type": "code",
   "execution_count": 5,
   "metadata": {},
   "outputs": [
    {
     "data": {
      "image/png": "[encoded data removed]",
      "text/plain": [
       "<Figure size 432x288 with 1 Axes>"
      ]
     },
     "metadata": {
      "needs_background": "light"
     },
     "output_type": "display_data"
    }
   ],
   "source": [
    "import matplotlib.pyplot as plt\n",
    "\n",
    "fig = plt.figure()\n",
    "plt.plot(range(epochs), train_l, color='blue', lw=2, label=\"Train loss\")\n",
    "plt.plot(range(epochs), val_l, color='orange', lw=2, label=\"Validation loss\")\n",
    "plt.yscale('log')\n",
    "ax = plt.gca()\n",
    "\n",
    "handles, labels = ax.get_legend_handles_labels()\n",
    "fig.legend(handles, labels, frameon=False, loc='lower center',  ncol=4)\n",
    "plt.show()"
   ]
  },
  {
   "cell_type": "code",
   "execution_count": 6,
   "metadata": {},
   "outputs": [
    {
     "data": {
      "image/png": "[encoded data removed]",
      "text/plain": [
       "<Figure size 432x288 with 1 Axes>"
      ]
     },
     "metadata": {
      "needs_background": "light"
     },
     "output_type": "display_data"
    }
   ],
   "source": [
    "fig = plt.figure()\n",
    "plt.plot(range(epochs), train_acc, color='blue', lw=2, label=\"Train accuracy\")\n",
    "plt.plot(range(epochs), val_acc, color='orange', lw=2, label=\"Validation accuracy\")\n",
    "plt.ylim([0, 1.1])\n",
    "\n",
    "ax = plt.gca()\n",
    "\n",
    "handles, labels = ax.get_legend_handles_labels()\n",
    "fig.legend(handles, labels, frameon=False, loc='lower center',  ncol=4)\n",
    "plt.show()"
   ]
  }
 ],
 "metadata": {
  "kernelspec": {
   "display_name": "Python 3.9.6 ('aflt-proj')",
   "language": "python",
   "name": "python3"
  },
  "language_info": {
   "codemirror_mode": {
    "name": "ipython",
    "version": 3
   },
   "file_extension": ".py",
   "mimetype": "text/x-python",
   "name": "python",
   "nbconvert_exporter": "python",
   "pygments_lexer": "ipython3",
   "version": "3.9.6"
  },
  "orig_nbformat": 4,
  "vscode": {
   "interpreter": {
    "hash": "e79681ef656beecc23f40fa8189b5ee6b5f2b38db808810ba34977390d131671"
   }
  }
 },
 "nbformat": 4,
 "nbformat_minor": 2
}
