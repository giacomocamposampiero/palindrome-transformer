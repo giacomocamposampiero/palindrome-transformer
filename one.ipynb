{
 "cells": [
  {
   "cell_type": "markdown",
   "metadata": {},
   "source": [
    "# Overcoming a Theoretical Limitation of Self-Attention "
   ]
  },
  {
   "cell_type": "markdown",
   "metadata": {},
   "source": [
    "Replication of experiments on FIRST language learning from [Overcoming a Theoretical Limitation of Self-Attention  (Chiang and Cholak, 2022)](https://arxiv.org/pdf/2202.12172.pdf)."
   ]
  },
  {
   "cell_type": "code",
   "execution_count": 1,
   "metadata": {},
   "outputs": [],
   "source": [
    "from src.transformer import OneTransformer\n",
    "import torch"
   ]
  },
  {
   "cell_type": "markdown",
   "metadata": {},
   "source": [
    "## Learning FIRST"
   ]
  },
  {
   "cell_type": "markdown",
   "metadata": {},
   "source": [
    "Define training parameters as in the original paper. Citing from (David Chiang and Peter Cholak, 2020):\n",
    "> We used `d_model` = 16 for word encodings, self-attention, and FFNN outputs, and `d_FFNN` = 64 for FFNN hidden layers. We used layer normalization (ε = 10^−5) after residual connections. We used PyTorch’s default initialization and trained using Adam (Kingma and Ba, 2015) with learning rate 3 × 10^−4 (Karpathy, 2016). We did not use dropout, as it did not seem to help."
   ]
  },
  {
   "cell_type": "code",
   "execution_count": 2,
   "metadata": {},
   "outputs": [],
   "source": [
    "vocab = [\"0\", \"1\", \"$\"]\n",
    "\n",
    "epochs = 30\n",
    "layers = 2\n",
    "heads = 1 \n",
    "d_model = 16\n",
    "d_ffnn = 64  \n",
    "eps = 1e-5 # value added to denominator in layer normalization\n",
    "scaled = False"
   ]
  },
  {
   "cell_type": "markdown",
   "metadata": {},
   "source": [
    "### Generalization experiment"
   ]
  },
  {
   "cell_type": "markdown",
   "metadata": {},
   "source": [
    "Initialize the Transformer to learn FIRST."
   ]
  },
  {
   "cell_type": "code",
   "execution_count": 3,
   "metadata": {},
   "outputs": [],
   "source": [
    "transformer = OneTransformer(len(vocab), layers, heads, d_model, d_ffnn, scaled, eps)\n",
    "optim = torch.optim.Adam(transformer.parameters(), lr=0.0003)"
   ]
  },
  {
   "cell_type": "markdown",
   "metadata": {},
   "source": [
    "Define model trainer and train the transformer."
   ]
  },
  {
   "cell_type": "code",
   "execution_count": 4,
   "metadata": {},
   "outputs": [
    {
     "name": "stdout",
     "output_type": "stream",
     "text": [
      "[Epoch 1] Train acc: 0.58 Train loss: 69.23280745744705, Test acc: 0.74 Test loss: 59.243724793195724\n",
      "[Epoch 2] Train acc: 0.66 Train loss: 64.78932148218155, Test acc: 0.66 Test loss: 65.02829775214195\n",
      "[Epoch 3] Train acc: 0.73 Train loss: 58.81623554229736, Test acc: 0.67 Test loss: 64.61201795935631\n",
      "[Epoch 4] Train acc: 0.62 Train loss: 68.38122102618217, Test acc: 0.78 Test loss: 58.73995319008827\n",
      "[Epoch 5] Train acc: 0.68 Train loss: 63.48837414383888, Test acc: 0.61 Test loss: 68.4975471496582\n",
      "[Epoch 6] Train acc: 0.66 Train loss: 64.74398273229599, Test acc: 0.64 Test loss: 66.67829939723015\n",
      "[Epoch 7] Train acc: 0.66 Train loss: 64.36483651399612, Test acc: 0.67 Test loss: 64.7537950873375\n",
      "[Epoch 8] Train acc: 0.63 Train loss: 65.86457869410515, Test acc: 0.58 Test loss: 72.59436106681824\n",
      "[Epoch 9] Train acc: 0.72 Train loss: 58.92349290847778, Test acc: 0.68 Test loss: 66.80771872401237\n",
      "[Epoch 10] Train acc: 0.74 Train loss: 56.44667136669159, Test acc: 0.61 Test loss: 82.20735235512257\n",
      "[Epoch 11] Train acc: 0.74 Train loss: 54.883512273430824, Test acc: 0.6 Test loss: 88.08987280726433\n",
      "[Epoch 12] Train acc: 0.57 Train loss: 61.53311525285244, Test acc: 0.46 Test loss: 83.2315370887518\n",
      "[Epoch 13] Train acc: 0.89 Train loss: 29.080484427511692, Test acc: 0.67 Test loss: 96.29752529412508\n",
      "[Epoch 14] Train acc: 1.0 Train loss: 5.51885125041008, Test acc: 0.63 Test loss: 119.71597635373473\n",
      "[Epoch 15] Train acc: 1.0 Train loss: 3.8873491175472736, Test acc: 0.62 Test loss: 130.88363530486822\n",
      "[Epoch 16] Train acc: 1.0 Train loss: 3.1100975908339024, Test acc: 0.61 Test loss: 141.61900293454528\n",
      "[Epoch 17] Train acc: 1.0 Train loss: 2.539431519806385, Test acc: 0.67 Test loss: 126.19886908493936\n",
      "[Epoch 18] Train acc: 1.0 Train loss: 2.1089567821472883, Test acc: 0.73 Test loss: 108.15908095985651\n",
      "[Epoch 19] Train acc: 1.0 Train loss: 1.77801026776433, Test acc: 0.65 Test loss: 145.3800876084715\n",
      "[Epoch 20] Train acc: 1.0 Train loss: 1.5102214980870485, Test acc: 0.63 Test loss: 159.3986193286255\n",
      "[Epoch 21] Train acc: 1.0 Train loss: 1.2907163696363568, Test acc: 0.59 Test loss: 182.683914761059\n",
      "[Epoch 22] Train acc: 1.0 Train loss: 1.1114629451185465, Test acc: 0.75 Test loss: 115.44200904481113\n",
      "[Epoch 23] Train acc: 1.0 Train loss: 0.9616249715909362, Test acc: 0.65 Test loss: 166.12629160564393\n",
      "[Epoch 24] Train acc: 1.0 Train loss: 0.8390771076083183, Test acc: 0.7 Test loss: 146.5310000544414\n",
      "[Epoch 25] Train acc: 1.0 Train loss: 0.7339374525472522, Test acc: 0.67 Test loss: 165.390706689097\n",
      "[Epoch 26] Train acc: 1.0 Train loss: 0.6463956865482032, Test acc: 0.6 Test loss: 205.3542188894935\n",
      "[Epoch 27] Train acc: 1.0 Train loss: 0.5706541207619011, Test acc: 0.62 Test loss: 199.71648395620286\n",
      "[Epoch 28] Train acc: 1.0 Train loss: 0.5071117240004241, Test acc: 0.58 Test loss: 225.67649986827746\n",
      "[Epoch 29] Train acc: 1.0 Train loss: 0.4522580956108868, Test acc: 0.72 Test loss: 153.79899067338556\n",
      "[Epoch 30] Train acc: 1.0 Train loss: 0.40570490434765816, Test acc: 0.75 Test loss: 140.14606128516607\n"
     ]
    }
   ],
   "source": [
    "from src.trainer import Trainer\n",
    "from src.dataset import Dataset\n",
    "\n",
    "trainset = Dataset(0, 100, 100, random_seed=42, train=True, data_type='one', variable_lenght=False)\n",
    "testset = Dataset(0, 100, 10,  random_seed=42,  train=False, data_type='one', variable_lenght=False)\n",
    "\n",
    "trainer = Trainer(0, transformer, optim, vocab, epochs, trainset, testset, verbose=1)\n",
    "train_l, val_l, train_acc, val_acc = trainer.train()"
   ]
  },
  {
   "cell_type": "code",
   "execution_count": 5,
   "metadata": {},
   "outputs": [
    {
     "data": {
      "image/png": "[encoded data removed]",
      "text/plain": [
       "<Figure size 432x288 with 1 Axes>"
      ]
     },
     "metadata": {
      "needs_background": "light"
     },
     "output_type": "display_data"
    }
   ],
   "source": [
    "import matplotlib.pyplot as plt\n",
    "\n",
    "fig = plt.figure()\n",
    "plt.plot(range(epochs), train_l, color='blue', lw=2, label=\"Train loss\")\n",
    "plt.plot(range(epochs), val_l, color='orange', lw=2, label=\"Validation loss\")\n",
    "plt.yscale('log')\n",
    "ax = plt.gca()\n",
    "\n",
    "handles, labels = ax.get_legend_handles_labels()\n",
    "fig.legend(handles, labels, frameon=False, loc='lower center',  ncol=4)\n",
    "plt.show()"
   ]
  },
  {
   "cell_type": "code",
   "execution_count": 6,
   "metadata": {},
   "outputs": [
    {
     "data": {
      "image/png": "[encoded data removed]",
      "text/plain": [
       "<Figure size 432x288 with 1 Axes>"
      ]
     },
     "metadata": {
      "needs_background": "light"
     },
     "output_type": "display_data"
    }
   ],
   "source": [
    "fig = plt.figure()\n",
    "plt.plot(range(epochs), train_acc, color='blue', lw=2, label=\"Train accuracy\")\n",
    "plt.plot(range(epochs), val_acc, color='orange', lw=2, label=\"Validation accuracy\")\n",
    "plt.ylim([0, 1.1])\n",
    "\n",
    "ax = plt.gca()\n",
    "\n",
    "handles, labels = ax.get_legend_handles_labels()\n",
    "fig.legend(handles, labels, frameon=False, loc='lower center',  ncol=4)\n",
    "plt.show()"
   ]
  },
  {
   "cell_type": "markdown",
   "metadata": {},
   "source": [
    "## Test accuracy w.r.t. length difference"
   ]
  },
  {
   "cell_type": "code",
   "execution_count": null,
   "metadata": {},
   "outputs": [],
   "source": [
    "train_length = 100\n",
    "max_acc = []\n",
    "min_loss = []\n",
    "\n",
    "from src.trainer import Trainer\n",
    "from src.dataset import Dataset\n",
    "\n",
    "for i in range(5, 41, 5):\n",
    "    transformer = OneTransformer(len(vocab), layers, heads, d_model, d_ffnn, scaled, eps)\n",
    "    optim = torch.optim.Adam(transformer.parameters(), lr=0.0003)\n",
    "    trainset = Dataset(0, 100, train_length, random_seed=42, train=True, data_type='one', variable_lenght=False)\n",
    "    testset = Dataset(0, 100, train_length-i,  random_seed=42,  train=False, data_type='one', variable_lenght=False)\n",
    "    trainer = Trainer(0, transformer, optim, vocab, epochs, trainset, testset, verbose=0)\n",
    "    train_l, val_l, train_acc, val_acc = trainer.train()\n",
    "    max_acc.append(max(val_acc))\n",
    "    min_loss.append(min(val_l))"
   ]
  },
  {
   "cell_type": "code",
   "execution_count": null,
   "metadata": {},
   "outputs": [],
   "source": [
    "import numpy as np\n",
    "x = np.array(range(5, 41, 5)) / 100"
   ]
  },
  {
   "cell_type": "code",
   "execution_count": null,
   "metadata": {},
   "outputs": [],
   "source": [
    "import matplotlib.pyplot as plt\n",
    "\n",
    "fig = plt.figure()\n",
    "plt.plot(x, max_acc, color='blue', lw=2, label=\"Max validation accuracy\")\n",
    "plt.show()"
   ]
  },
  {
   "cell_type": "code",
   "execution_count": null,
   "metadata": {},
   "outputs": [],
   "source": [
    "fig = plt.figure()\n",
    "plt.plot(x, min_loss, color='blue', lw=2, label=\"Min validation loss\")\n",
    "plt.show()"
   ]
  },
  {
   "cell_type": "code",
   "execution_count": null,
   "metadata": {},
   "outputs": [],
   "source": []
  }
 ],
 "metadata": {
  "kernelspec": {
   "display_name": "Python 3.9.6 ('aflt-proj')",
   "language": "python",
   "name": "python3"
  },
  "language_info": {
   "codemirror_mode": {
    "name": "ipython",
    "version": 3
   },
   "file_extension": ".py",
   "mimetype": "text/x-python",
   "name": "python",
   "nbconvert_exporter": "python",
   "pygments_lexer": "ipython3",
   "version": "3.9.6"
  },
  "orig_nbformat": 4,
  "vscode": {
   "interpreter": {
    "hash": "e79681ef656beecc23f40fa8189b5ee6b5f2b38db808810ba34977390d131671"
   }
  }
 },
 "nbformat": 4,
 "nbformat_minor": 2
}
